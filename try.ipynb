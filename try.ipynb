{
 "cells": [
  {
   "cell_type": "code",
   "execution_count": null,
   "metadata": {},
   "outputs": [],
   "source": [
    "# coin modeling\n"
   ]
  },
  {
   "cell_type": "markdown",
   "metadata": {},
   "source": [
    "# Coins model\n",
    "Game parameters to consider\n",
    "1. bid size\n",
    "2. win size\n",
    "3. win probability\n",
    "4. Available money\n",
    "5. number of games (try limits)\n",
    "6. Kelly criterion: https://www.youtube.com/watch?v=-EFyY60UHZ4\n",
    "o - optimal bid size\n",
    "m - multiplier in case of win\n",
    "p - win prob\n",
    "o = m(p-1)/(m-1)\n",
    "\n",
    "Visualize a graph % of capital as bid, average gain per bid, one of coin property\n",
    "x = 1.0\n",
    "b = 0.2 - bid size\n",
    "for _ in range(100):\n",
    "    bx*0.6 - bx*0.4 = 0.2bx\n",
    "\n",
    "What if I roll a dice. In case of win with p=1/6 it multiplies my bid by 20. What's the average gain? Wha't the average gain per bid?\n",
    "x - bid size.\n",
    "20x/6 - 5x/6 = 15x/6\n",
    "Draw a graph depending on the number of games and different bid strategis (%).\n",
    "Will I win on average is I bet all my money?\n",
    "# A coin with 60% win prob doubling the bid\n",
    "\n",
    "# A bid is constant and declared upfront\n",
    "2 coins: The first coin takes b1$. In case of win it \n",
    "## A bid takes all money in case of loss, but I'm free to choose the bidding size"
   ]
  },
  {
   "cell_type": "code",
   "execution_count": null,
   "metadata": {},
   "outputs": [],
   "source": [
    "# stocks modeling"
   ]
  },
  {
   "cell_type": "code",
   "execution_count": 1,
   "metadata": {},
   "outputs": [
    {
     "data": {
      "application/vnd.jupyter.widget-view+json": {
       "model_id": "5726c9166575468c9498e1caae0612ff",
       "version_major": 2,
       "version_minor": 0
      },
      "text/plain": [
       "FloatSlider(value=1.0, max=3.0, min=0.1)"
      ]
     },
     "metadata": {},
     "output_type": "display_data"
    },
    {
     "data": {
      "application/vnd.jupyter.widget-view+json": {
       "model_id": "e7e9cbf15ce64c3496da74455c152286",
       "version_major": 2,
       "version_minor": 0
      },
      "text/plain": [
       "FigureWidget({\n",
       "    'data': [{'colorscale': [[0.0, 'rgb(127,59,8)'], [0.1, 'rgb(179,88,6)'], [0.2,\n",
       "                             'rgb(224,130,20)'], [0.3, 'rgb(253,184,99)'], [0.4,\n",
       "                             'rgb(254,224,182)'], [0.5, 'rgb(247,247,247)'], [0.6,\n",
       "                             'rgb(216,218,235)'], [0.7, 'rgb(178,171,210)'], [0.8,\n",
       "                             'rgb(128,115,172)'], [0.9, 'rgb(84,39,136)'], [1.0,\n",
       "                             'rgb(45,0,75)']],\n",
       "              'name': 'sin(sqrt(x²+y²))',\n",
       "              'opacity': 0.7,\n",
       "              'type': 'surface',\n",
       "              'uid': '4a6df587-4e89-4d89-a5f0-d060170ebf49',\n",
       "              'x': {'bdata': ('AAAAAAAACMDByyl4OQUHwIOXU/ByCg' ... 'PwcgoGQMDLKXg5BQdAAAAAAAAACEA='),\n",
       "                    'dtype': 'f8',\n",
       "                    'shape': '50, 50'},\n",
       "              'y': {'bdata': ('AAAAAAAACMAAAAAAAAAIwAAAAAAAAA' ... 'AAAAAIQAAAAAAAAAhAAAAAAAAACEA='),\n",
       "                    'dtype': 'f8',\n",
       "                    'shape': '50, 50'},\n",
       "              'z': {'bdata': ('diMtOamI7L8hqZz7hTDrvy3ciuyCru' ... 'rsgq7pvyGpnPuFMOu/diMtOamI7L8='),\n",
       "                    'dtype': 'f8',\n",
       "                    'shape': '50, 50'}},\n",
       "             {'colorscale': [[0.0, 'rgb(103,0,31)'], [0.1, 'rgb(178,24,43)'],\n",
       "                             [0.2, 'rgb(214,96,77)'], [0.3, 'rgb(244,165,130)'],\n",
       "                             [0.4, 'rgb(253,219,199)'], [0.5, 'rgb(247,247,247)'],\n",
       "                             [0.6, 'rgb(209,229,240)'], [0.7, 'rgb(146,197,222)'],\n",
       "                             [0.8, 'rgb(67,147,195)'], [0.9, 'rgb(33,102,172)'],\n",
       "                             [1.0, 'rgb(5,48,97)']],\n",
       "              'name': 'x² + yx + 1',\n",
       "              'opacity': 0.7,\n",
       "              'type': 'surface',\n",
       "              'uid': 'dbc8a9df-9385-4cfa-827e-02b8dd02cc07',\n",
       "              'x': {'bdata': ('AAAAAAAACMDByyl4OQUHwIOXU/ByCg' ... 'PwcgoGQMDLKXg5BQdAAAAAAAAACEA='),\n",
       "                    'dtype': 'f8',\n",
       "                    'shape': '50, 50'},\n",
       "              'y': {'bdata': ('AAAAAAAACMAAAAAAAAAIwAAAAAAAAA' ... 'AAAAAIQAAAAAAAAAhAAAAAAAAACEA='),\n",
       "                    'dtype': 'f8',\n",
       "                    'shape': '50, 50'},\n",
       "              'z': {'bdata': ('2/l+arx0kz8U9iTsxVeSP12YNdurQp' ... 'Xbq0KRPxP2JOzFV5I/2/l+arx0kz8='),\n",
       "                    'dtype': 'f8',\n",
       "                    'shape': '50, 50'}}],\n",
       "    'layout': {'scene': {'xaxis': {'title': {'text': 'X axis'}},\n",
       "                         'yaxis': {'title': {'text': 'Y axis'}},\n",
       "                         'zaxis': {'title': {'text': 'Z axis'}}},\n",
       "               'template': '...'}\n",
       "})"
      ]
     },
     "metadata": {},
     "output_type": "display_data"
    }
   ],
   "source": [
    "import numpy as np\n",
    "import plotly.graph_objects\n",
    "import ipywidgets\n",
    "import IPython.display\n",
    "\n",
    "# Create grid\n",
    "x = np.linspace(-3, 3, 50)\n",
    "y = np.linspace(-3, 3, 50)\n",
    "X, Y = np.meshgrid(x, y)\n",
    "\n",
    "# Initial function values\n",
    "Z1 = np.sin(np.sqrt(X**2 + Y**2))  # Function 1 (Scalable)\n",
    "Z2 = 0.001*(X**2 + Y*X + 1)  # Function 2 (Static)\n",
    "\n",
    "figure = plotly.graph_objects.FigureWidget([\n",
    "    plotly.graph_objects.Surface(z=Z1, x=X, y=Y, colorscale=\"PuOr\", opacity=0.7, name=\"sin(sqrt(x²+y²))\"),\n",
    "    plotly.graph_objects.Surface(z=Z2, x=X, y=Y, colorscale=\"RdBu\", opacity=0.7, name=\"x² + yx + 1\")\n",
    "], plotly.graph_objects.Layout(scene={'xaxis_title': \"X axis\", 'yaxis_title': \"Y axis\", 'zaxis_title': \"Z axis\"}))\n",
    "\n",
    "slider = ipywidgets.FloatSlider(\n",
    "    min=0.1, max=3.0, step=0.1, value=1.0,\n",
    ")\n",
    "\n",
    "# Function to update the plot without redrawing\n",
    "def update_surface(value):\n",
    "    with figure.batch_update():  # Batch updates to prevent flickering\n",
    "        figure.data[0].z = value[\"new\"] * np.sin(np.sqrt(X**2 + Y**2))  # Update first function\n",
    "\n",
    "# Link slider to update function\n",
    "slider.observe(update_surface, names=\"value\")\n",
    "\n",
    "# Display slider and figure\n",
    "IPython.display.display(slider, figure)"
   ]
  },
  {
   "cell_type": "code",
   "execution_count": 3,
   "metadata": {},
   "outputs": [
    {
     "data": {
      "application/vnd.jupyter.widget-view+json": {
       "model_id": "f6baaec97b784c8fa8bdf15828c4de2c",
       "version_major": 2,
       "version_minor": 0
      },
      "text/plain": [
       "FloatSlider(value=0.0, max=5.0, min=-5.0)"
      ]
     },
     "metadata": {},
     "output_type": "display_data"
    },
    {
     "data": {
      "application/vnd.jupyter.widget-view+json": {
       "model_id": "c140f3c6454e4f5c9c0d0e541f7ed8ab",
       "version_major": 2,
       "version_minor": 0
      },
      "text/plain": [
       "FigureWidget({\n",
       "    'data': [{'cmax': 1,\n",
       "              'cmin': 0,\n",
       "              'colorbar': {'title': {'text': 'a value'}},\n",
       "              'colorscale': [[0.0, 'rgb(0,0,0)'], [0.3333333333333333,\n",
       "                             'rgb(230,0,0)'], [0.6666666666666666,\n",
       "                             'rgb(255,210,0)'], [1.0, 'rgb(255,255,255)']],\n",
       "              'name': 'a=0.5',\n",
       "              'opacity': 0.7,\n",
       "              'showscale': True,\n",
       "              'surfacecolor': {'bdata': ('AAAAAAAAAAAAAAAAAAAAAAAAAAAAAA' ... 'AAAAAAAAAAAAAAAAAAAAAAAAAAAA=='),\n",
       "                               'dtype': 'f8',\n",
       "                               'shape': '10, 50'},\n",
       "              'type': 'surface',\n",
       "              'uid': '1ccf9f37-e69a-422c-95f7-6d4e2be6dbe7',\n",
       "              'x': {'bdata': ('AAAAAAAACMDByyl4OQUHwIOXU/ByCg' ... 'ByCgZAwMspeDkFB0AAAAAAAAAIQA=='),\n",
       "                    'dtype': 'f8',\n",
       "                    'shape': '10, 50'},\n",
       "              'y': {'bdata': ('AAAAAAAAAMAAAAAAAAAAwAAAAAAAAA' ... 'AAAABAAAAAAAAAAEAAAAAAAAAAQA=='),\n",
       "                    'dtype': 'f8',\n",
       "                    'shape': '10, 50'},\n",
       "              'z': {'bdata': ('AAAAAAAABECarzHuBh8BQM7vl8+Fuf' ... 'NhLhdAzNcYd4OPGEAAAAAAAAAaQA=='),\n",
       "                    'dtype': 'f8',\n",
       "                    'shape': '10, 50'}},\n",
       "             {'cmax': 1,\n",
       "              'cmin': 0,\n",
       "              'colorbar': {'title': {'text': 'a value'}},\n",
       "              'colorscale': [[0.0, 'rgb(0,0,0)'], [0.3333333333333333,\n",
       "                             'rgb(230,0,0)'], [0.6666666666666666,\n",
       "                             'rgb(255,210,0)'], [1.0, 'rgb(255,255,255)']],\n",
       "              'name': 'a=0.8',\n",
       "              'opacity': 0.7,\n",
       "              'showscale': True,\n",
       "              'surfacecolor': {'bdata': ('HcdxHMdxvD8dx3Ecx3G8Px3HcRzHcb' ... 'zHcbw/HcdxHMdxvD8dx3Ecx3G8Pw=='),\n",
       "                               'dtype': 'f8',\n",
       "                               'shape': '10, 50'},\n",
       "              'type': 'surface',\n",
       "              'uid': 'a77c9763-5c9f-451e-a1d7-132c798e90e8',\n",
       "              'x': {'bdata': ('AAAAAAAACMDByyl4OQUHwIOXU/ByCg' ... 'ByCgZAwMspeDkFB0AAAAAAAAAIQA=='),\n",
       "                    'dtype': 'f8',\n",
       "                    'shape': '10, 50'},\n",
       "              'y': {'bdata': ('AAAAAAAAAMAAAAAAAAAAwAAAAAAAAA' ... 'AAAABAAAAAAAAAAEAAAAAAAAAAQA=='),\n",
       "                    'dtype': 'f8',\n",
       "                    'shape': '10, 50'},\n",
       "              'z': {'bdata': ('AAAAAAAAFECUiF+AzMIRQPbWIEz2Og' ... 'Z7nR9ASsQvQGbhIEAAAAAAAAAiQA=='),\n",
       "                    'dtype': 'f8',\n",
       "                    'shape': '10, 50'}},\n",
       "             {'cmax': 1,\n",
       "              'cmin': 0,\n",
       "              'colorbar': {'title': {'text': 'a value'}},\n",
       "              'colorscale': [[0.0, 'rgb(0,0,0)'], [0.3333333333333333,\n",
       "                             'rgb(230,0,0)'], [0.6666666666666666,\n",
       "                             'rgb(255,210,0)'], [1.0, 'rgb(255,255,255)']],\n",
       "              'name': 'a=1.1',\n",
       "              'opacity': 0.7,\n",
       "              'showscale': True,\n",
       "              'surfacecolor': {'bdata': ('HcdxHMdxzD8dx3Ecx3HMPx3HcRzHcc' ... 'zHccw/HcdxHMdxzD8dx3Ecx3HMPw=='),\n",
       "                               'dtype': 'f8',\n",
       "                               'shape': '10, 50'},\n",
       "              'type': 'surface',\n",
       "              'uid': 'c5e602aa-470c-4bc3-a7a0-2b288de6a7bd',\n",
       "              'x': {'bdata': ('AAAAAAAACMDByyl4OQUHwIOXU/ByCg' ... 'ByCgZAwMspeDkFB0AAAAAAAAAIQA=='),\n",
       "                    'dtype': 'f8',\n",
       "                    'shape': '10, 50'},\n",
       "              'y': {'bdata': ('AAAAAAAAAMAAAAAAAAAAwAAAAAAAAA' ... 'AAAABAAAAAAAAAAEAAAAAAAAAAQA=='),\n",
       "                    'dtype': 'f8',\n",
       "                    'shape': '10, 50'},\n",
       "              'z': {'bdata': ('AAAAAAAAHkBcOaaJFfYaQALbOtiUDB' ... 'xKBiRArRzTxAp7JUAAAAAAAAAnQA=='),\n",
       "                    'dtype': 'f8',\n",
       "                    'shape': '10, 50'}},\n",
       "             {'cmax': 1,\n",
       "              'cmin': 0,\n",
       "              'colorbar': {'title': {'text': 'a value'}},\n",
       "              'colorscale': [[0.0, 'rgb(0,0,0)'], [0.3333333333333333,\n",
       "                             'rgb(230,0,0)'], [0.6666666666666666,\n",
       "                             'rgb(255,210,0)'], [1.0, 'rgb(255,255,255)']],\n",
       "              'name': 'a=1.3',\n",
       "              'opacity': 0.7,\n",
       "              'showscale': True,\n",
       "              'surfacecolor': {'bdata': ('VlVVVVVV1T9WVVVVVVXVP1ZVVVVVVd' ... 'VVVdU/VlVVVVVV1T9WVVVVVVXVPw=='),\n",
       "                               'dtype': 'f8',\n",
       "                               'shape': '10, 50'},\n",
       "              'type': 'surface',\n",
       "              'uid': 'd93b7bb4-acd2-416f-8e23-85d339d50062',\n",
       "              'x': {'bdata': ('AAAAAAAACMDByyl4OQUHwIOXU/ByCg' ... 'ByCgZAwMspeDkFB0AAAAAAAAAIQA=='),\n",
       "                    'dtype': 'f8',\n",
       "                    'shape': '10, 50'},\n",
       "              'y': {'bdata': ('AAAAAAAAAMAAAAAAAAAAwAAAAAAAAA' ... 'AAAABAAAAAAAAAAEAAAAAAAAAAQA=='),\n",
       "                    'dtype': 'f8',\n",
       "                    'shape': '10, 50'},\n",
       "              'z': {'bdata': ('AQAAAAAAJEASdXZJrxQiQEWlMkXXPS' ... 'XXPShAEXV2Sa8UKkABAAAAAAAsQA=='),\n",
       "                    'dtype': 'f8',\n",
       "                    'shape': '10, 50'}},\n",
       "             {'cmax': 1,\n",
       "              'cmin': 0,\n",
       "              'colorbar': {'title': {'text': 'a value'}},\n",
       "              'colorscale': [[0.0, 'rgb(0,0,0)'], [0.3333333333333333,\n",
       "                             'rgb(230,0,0)'], [0.6666666666666666,\n",
       "                             'rgb(255,210,0)'], [1.0, 'rgb(255,255,255)']],\n",
       "              'name': 'a=1.6',\n",
       "              'opacity': 0.7,\n",
       "              'showscale': True,\n",
       "              'surfacecolor': {'bdata': ('HcdxHMdx3D8dx3Ecx3HcPx3HcRzHcd' ... 'zHcdw/HcdxHMdx3D8dx3Ecx3HcPw=='),\n",
       "                               'dtype': 'f8',\n",
       "                               'shape': '10, 50'},\n",
       "              'type': 'surface',\n",
       "              'uid': 'fc38192d-ca91-4c21-8ec2-e0710942f0fa',\n",
       "              'x': {'bdata': ('AAAAAAAACMDByyl4OQUHwIOXU/ByCg' ... 'ByCgZAwMspeDkFB0AAAAAAAAAIQA=='),\n",
       "                    'dtype': 'f8',\n",
       "                    'shape': '10, 50'},\n",
       "              'y': {'bdata': ('AAAAAAAAAMAAAAAAAAAAwAAAAAAAAA' ... 'AAAABAAAAAAAAAAEAAAAAAAAAAQA=='),\n",
       "                    'dtype': 'f8',\n",
       "                    'shape': '10, 50'},\n",
       "              'z': {'bdata': ('AAAAAAAAKUB1zRnOU64mQAndRx5kdS' ... '5kdSxAdM0ZzlOuLkAAAAAAAIAwQA=='),\n",
       "                    'dtype': 'f8',\n",
       "                    'shape': '10, 50'}},\n",
       "             {'cmax': 1,\n",
       "              'cmin': 0,\n",
       "              'colorbar': {'title': {'text': 'a value'}},\n",
       "              'colorscale': [[0.0, 'rgb(0,0,0)'], [0.3333333333333333,\n",
       "                             'rgb(230,0,0)'], [0.6666666666666666,\n",
       "                             'rgb(255,210,0)'], [1.0, 'rgb(255,255,255)']],\n",
       "              'name': 'a=1.9',\n",
       "              'opacity': 0.7,\n",
       "              'showscale': True,\n",
       "              'surfacecolor': {'bdata': ('chzHcRzH4T9yHMdxHMfhP3Icx3Ecx+' ... 'Ecx+E/chzHcRzH4T9yHMdxHMfhPw=='),\n",
       "                               'dtype': 'f8',\n",
       "                               'shape': '10, 50'},\n",
       "              'type': 'surface',\n",
       "              'uid': 'f745123c-e4e4-4948-b0ff-2bb4be90fc6d',\n",
       "              'x': {'bdata': ('AAAAAAAACMDByyl4OQUHwIOXU/ByCg' ... 'ByCgZAwMspeDkFB0AAAAAAAAAIQA=='),\n",
       "                    'dtype': 'f8',\n",
       "                    'shape': '10, 50'},\n",
       "              'y': {'bdata': ('AAAAAAAAAMAAAAAAAAAAwAAAAAAAAA' ... 'AAAABAAAAAAAAAAEAAAAAAAAAAQA=='),\n",
       "                    'dtype': 'f8',\n",
       "                    'shape': '10, 50'},\n",
       "              'z': {'bdata': ('AAAAAAAALkDYJb1S+EcrQMwUXffwrC' ... 't4VjBA65JeKfyjMUAAAAAAAAAzQA=='),\n",
       "                    'dtype': 'f8',\n",
       "                    'shape': '10, 50'}},\n",
       "             {'cmax': 1,\n",
       "              'cmin': 0,\n",
       "              'colorbar': {'title': {'text': 'a value'}},\n",
       "              'colorscale': [[0.0, 'rgb(0,0,0)'], [0.3333333333333333,\n",
       "                             'rgb(230,0,0)'], [0.6666666666666666,\n",
       "                             'rgb(255,210,0)'], [1.0, 'rgb(255,255,255)']],\n",
       "              'name': 'a=2.2',\n",
       "              'opacity': 0.7,\n",
       "              'showscale': True,\n",
       "              'surfacecolor': {'bdata': ('VlVVVVVV5T9WVVVVVVXlP1ZVVVVVVe' ... 'VVVeU/VlVVVVVV5T9WVVVVVVXlPw=='),\n",
       "                               'dtype': 'f8',\n",
       "                               'shape': '10, 50'},\n",
       "              'type': 'surface',\n",
       "              'uid': '75df6f1d-3b93-4242-9795-a242ec081623',\n",
       "              'x': {'bdata': ('AAAAAAAACMDByyl4OQUHwIOXU/ByCg' ... 'ByCgZAwMspeDkFB0AAAAAAAAAIQA=='),\n",
       "                    'dtype': 'f8',\n",
       "                    'shape': '10, 50'},\n",
       "              'y': {'bdata': ('AAAAAAAAAMAAAAAAAAAAwAAAAAAAAA' ... 'AAAABAAAAAAAAAAEAAAAAAAAAAQA=='),\n",
       "                    'dtype': 'f8',\n",
       "                    'shape': '10, 50'},\n",
       "              'z': {'bdata': ('AQAAAACAMUA+fmDXnOEvQJBMctB95C' ... 'g+cjJAHj+wa87wM0ABAAAAAIA1QA=='),\n",
       "                    'dtype': 'f8',\n",
       "                    'shape': '10, 50'}},\n",
       "             {'cmax': 1,\n",
       "              'cmin': 0,\n",
       "              'colorbar': {'title': {'text': 'a value'}},\n",
       "              'colorscale': [[0.0, 'rgb(0,0,0)'], [0.3333333333333333,\n",
       "                             'rgb(230,0,0)'], [0.6666666666666666,\n",
       "                             'rgb(255,210,0)'], [1.0, 'rgb(255,255,255)']],\n",
       "              'name': 'a=2.4',\n",
       "              'opacity': 0.7,\n",
       "              'showscale': True,\n",
       "              'surfacecolor': {'bdata': ('Oo7jOI7j6D86juM4juPoPzqO4ziO4+' ... 'iO4+g/Oo7jOI7j6D86juM4juPoPw=='),\n",
       "                               'dtype': 'f8',\n",
       "                               'shape': '10, 50'},\n",
       "              'type': 'surface',\n",
       "              'uid': 'c1945e69-3261-4f31-b69b-09d69cb2dbfb',\n",
       "              'x': {'bdata': ('AAAAAAAACMDByyl4OQUHwIOXU/ByCg' ... 'ByCgZAwMspeDkFB0AAAAAAAAAIQA=='),\n",
       "                    'dtype': 'f8',\n",
       "                    'shape': '10, 50'},\n",
       "              'y': {'bdata': ('AAAAAAAAAMAAAAAAAAAAwAAAAAAAAA' ... 'AAAABAAAAAAAAAAEAAAAAAAAAAQA=='),\n",
       "                    'dtype': 'f8',\n",
       "                    'shape': '10, 50'},\n",
       "              'z': {'bdata': ('AAAAAAAANEBQ6wGuoD0yQCrCw1QFjj' ... 'QFjjRAT+sBrqA9NkAAAAAAAAA4QA=='),\n",
       "                    'dtype': 'f8',\n",
       "                    'shape': '10, 50'}},\n",
       "             {'cmax': 1,\n",
       "              'cmin': 0,\n",
       "              'colorbar': {'title': {'text': 'a value'}},\n",
       "              'colorscale': [[0.0, 'rgb(0,0,0)'], [0.3333333333333333,\n",
       "                             'rgb(230,0,0)'], [0.6666666666666666,\n",
       "                             'rgb(255,210,0)'], [1.0, 'rgb(255,255,255)']],\n",
       "              'name': 'a=2.7',\n",
       "              'opacity': 0.7,\n",
       "              'showscale': True,\n",
       "              'surfacecolor': {'bdata': ('HcdxHMdx7D8dx3Ecx3HsPx3HcRzHce' ... 'zHcew/HcdxHMdx7D8dx3Ecx3HsPw=='),\n",
       "                               'dtype': 'f8',\n",
       "                               'shape': '10, 50'},\n",
       "              'type': 'surface',\n",
       "              'uid': '3f54d879-a95b-4124-8488-8dcff58b22c7',\n",
       "              'x': {'bdata': ('AAAAAAAACMDByyl4OQUHwIOXU/ByCg' ... 'ByCgZAwMspeDkFB0AAAAAAAAAIQA=='),\n",
       "                    'dtype': 'f8',\n",
       "                    'shape': '10, 50'},\n",
       "              'y': {'bdata': ('AAAAAAAAAMAAAAAAAAAAwAAAAAAAAA' ... 'AAAABAAAAAAAAAAEAAAAAAAAAAQA=='),\n",
       "                    'dtype': 'f8',\n",
       "                    'shape': '10, 50'},\n",
       "              'z': {'bdata': ('AAAAAACANkCCl1Pwcoo0QAxeTsHLqT' ... 'HLqTZAgZdT8HKKOEAAAAAAAIA6QA=='),\n",
       "                    'dtype': 'f8',\n",
       "                    'shape': '10, 50'}},\n",
       "             {'cmax': 1,\n",
       "              'cmin': 0,\n",
       "              'colorbar': {'title': {'text': 'a value'}},\n",
       "              'colorscale': [[0.0, 'rgb(0,0,0)'], [0.3333333333333333,\n",
       "                             'rgb(230,0,0)'], [0.6666666666666666,\n",
       "                             'rgb(255,210,0)'], [1.0, 'rgb(255,255,255)']],\n",
       "              'name': 'a=3.0',\n",
       "              'opacity': 0.7,\n",
       "              'showscale': True,\n",
       "              'surfacecolor': {'bdata': ('AAAAAAAA8D8AAAAAAADwPwAAAAAAAP' ... 'AAAPA/AAAAAAAA8D8AAAAAAADwPw=='),\n",
       "                               'dtype': 'f8',\n",
       "                               'shape': '10, 50'},\n",
       "              'type': 'surface',\n",
       "              'uid': '199184e5-be92-4486-b416-84a47f07456c',\n",
       "              'x': {'bdata': ('AAAAAAAACMDByyl4OQUHwIOXU/ByCg' ... 'ByCgZAwMspeDkFB0AAAAAAAAAIQA=='),\n",
       "                    'dtype': 'f8',\n",
       "                    'shape': '10, 50'},\n",
       "              'y': {'bdata': ('AAAAAAAAAMAAAAAAAAAAwAAAAAAAAA' ... 'AAAABAAAAAAAAAAEAAAAAAAAAAQA=='),\n",
       "                    'dtype': 'f8',\n",
       "                    'shape': '10, 50'},\n",
       "              'z': {'bdata': ('AAAAAAAAOUC0Q6UyRdc2QO352C2SxT' ... '2SxThAskOlMkXXOkAAAAAAAAA9QA=='),\n",
       "                    'dtype': 'f8',\n",
       "                    'shape': '10, 50'}}],\n",
       "    'layout': {'scene': {'xaxis': {'title': {'text': 'X axis'}},\n",
       "                         'yaxis': {'title': {'text': 'Y axis'}},\n",
       "                         'zaxis': {'title': {'text': 'Z axis'}}},\n",
       "               'template': '...'}\n",
       "})"
      ]
     },
     "metadata": {},
     "output_type": "display_data"
    }
   ],
   "source": [
    "import numpy as np\n",
    "import plotly.graph_objects as go\n",
    "import ipywidgets as widgets\n",
    "import IPython.display\n",
    "import threading\n",
    "import time\n",
    "\n",
    "x = np.linspace(-3, 3, 50)\n",
    "b_values = np.linspace(-2, 2, 10)\n",
    "a_values = np.linspace(0.5, 3.0, 10)\n",
    "X, B = np.meshgrid(x, b_values)\n",
    "\n",
    "a_min, a_max = a_values.min(), a_values.max()\n",
    "\n",
    "# Shared state variables\n",
    "slider_value = 0.0\n",
    "user_interacting = False\n",
    "last_interaction_time = None\n",
    "resume_requested = False\n",
    "\n",
    "figure = go.FigureWidget(\n",
    "    [],\n",
    "    go.Layout(scene={'xaxis_title': \"X axis\", 'yaxis_title': \"Y axis\", 'zaxis_title': \"Z axis\"})\n",
    ")\n",
    "\n",
    "for a in a_values:\n",
    "    Z = a * X**2 + slider_value * X + B\n",
    "    surface_color = np.full_like(Z, (a - a_min) / (a_max - a_min))\n",
    "\n",
    "    figure.add_trace(go.Surface(\n",
    "        z=Z, x=X, y=B,\n",
    "        surfacecolor=surface_color,\n",
    "        colorscale=\"Hot\",\n",
    "        cmin=0, cmax=1,\n",
    "        opacity=0.7, showscale=True,\n",
    "        colorbar_title=\"a value\",\n",
    "        name=f\"a={a:.1f}\"\n",
    "    ))\n",
    "\n",
    "def update_plot(c):\n",
    "    \"\"\"Update the plot with the given slider value.\"\"\"\n",
    "    with figure.batch_update():\n",
    "        for i, a in enumerate(a_values):\n",
    "            Z_new = a * X**2 + c * X + B\n",
    "            surface_color = np.full_like(Z_new, (a - a_min) / (a_max - a_min))\n",
    "            figure.data[i].z = Z_new\n",
    "            figure.data[i].surfacecolor = surface_color\n",
    "\n",
    "def on_slider_change(change):\n",
    "    \"\"\"Detects when the slider is moved.\"\"\"\n",
    "    global slider_value, user_interacting, last_interaction_time, resume_requested\n",
    "    slider_value = change[\"new\"]\n",
    "    last_interaction_time = time.time()\n",
    "    user_interacting = True  # Pause animation immediately\n",
    "    resume_requested = False  # Prevent unwanted jumps\n",
    "    update_plot(slider_value)\n",
    "\n",
    "def debounce_resume():\n",
    "    \"\"\"Waits for 1.5s after the last interaction before resuming animation.\"\"\"\n",
    "    global user_interacting, last_interaction_time, resume_requested\n",
    "    while True:\n",
    "        if user_interacting and last_interaction_time:\n",
    "            elapsed = time.time() - last_interaction_time\n",
    "            if elapsed > 1.5:\n",
    "                user_interacting = False\n",
    "                resume_requested = True  # Allow animation to continue\n",
    "        time.sleep(0.1)\n",
    "\n",
    "def animate_slider():\n",
    "    \"\"\"Continuously animate the slider unless the user is interacting.\"\"\"\n",
    "    global slider_value, user_interacting, resume_requested\n",
    "    while True:\n",
    "        if not user_interacting and resume_requested:\n",
    "            resume_requested = False  # Ensure animation resumes smoothly\n",
    "            time.sleep(0.1)\n",
    "\n",
    "        if not user_interacting:\n",
    "            slider_value += 0.1\n",
    "            if slider_value > 5:\n",
    "                slider_value = -5\n",
    "            slider.value = slider_value  # Update without overriding manual input\n",
    "        time.sleep(0.1)\n",
    "\n",
    "# Create slider\n",
    "slider = widgets.FloatSlider(value=slider_value, min=-5, max=5, step=0.1)\n",
    "slider.observe(on_slider_change, names=\"value\")\n",
    "\n",
    "# Display slider and figure\n",
    "IPython.display.display(slider, figure)\n",
    "\n",
    "# Run animation and debounce mechanism in the background using threads\n",
    "# threading.Thread(target=animate_slider, daemon=True).start()\n",
    "# threading.Thread(target=debounce_resume, daemon=True).start()\n"
   ]
  },
  {
   "cell_type": "code",
   "execution_count": 1,
   "metadata": {},
   "outputs": [
    {
     "data": {
      "application/vnd.plotly.v1+json": {
       "config": {
        "plotlyServerURL": "https://plot.ly"
       },
       "data": [
        {
         "cmax": 1,
         "cmin": 0,
         "colorbar": {
          "title": {
           "text": "a value"
          }
         },
         "colorscale": [
          [
           0,
           "rgb(0,0,0)"
          ],
          [
           0.3333333333333333,
           "rgb(230,0,0)"
          ],
          [
           0.6666666666666666,
           "rgb(255,210,0)"
          ],
          [
           1,
           "rgb(255,255,255)"
          ]
         ],
         "name": "a=0.5",
         "opacity": 0.7,
         "showscale": true,
         "surfacecolor": {
          "bdata": "AAAAAAAAAAAAAAAAAAAAAAAAAAAAAAAAAAAAAAAAAAAAAAAAAAAAAAAAAAAAAAAAAAAAAAAAAAAAAAAAAAAAAAAAAAAAAAAAAAAAAAAAAAAAAAAAAAAAAAAAAAAAAAAAAAAAAAAAAAAAAAAAAAAAAAAAAAAAAAAAAAAAAAAAAAAAAAAAAAAAAAAAAAAAAAAAAAAAAAAAAAAAAAAAAAAAAAAAAAAAAAAAAAAAAAAAAAAAAAAAAAAAAAAAAAAAAAAAAAAAAAAAAAAAAAAAAAAAAAAAAAAAAAAAAAAAAAAAAAAAAAAAAAAAAAAAAAAAAAAAAAAAAAAAAAAAAAAAAAAAAAAAAAAAAAAAAAAAAAAAAAAAAAAAAAAAAAAAAAAAAAAAAAAAAAAAAAAAAAAAAAAAAAAAAAAAAAAAAAAAAAAAAAAAAAAAAAAAAAAAAAAAAAAAAAAAAAAAAAAAAAAAAAAAAAAAAAAAAAAAAAAAAAAAAAAAAAAAAAAAAAAAAAAAAAAAAAAAAAAAAAAAAAAAAAAAAAAAAAAAAAAAAAAAAAAAAAAAAAAAAAAAAAAAAAAAAAAAAAAAAAAAAAAAAAAAAAAAAAAAAAAAAAAAAAAAAAAAAAAAAAAAAAAAAAAAAAAAAAAAAAAAAAAAAAAAAAAAAAAAAAAAAAAAAAAAAAAAAAAAAAAAAAAAAAAAAAAAAAAAAAAAAAAAAAAAAAAAAAAAAAAAAAAAAAAAAAAAAAAAAAAAAAAAAAAAAAAAAAAAAAAAAAAAAAAAAAAAAAAAAAAAAAAAAAAAAAAAAAAAAAAAAAAAAAAAAAAAAAAAAAAAAAAAAAAAAAAAAAAAAAAAAAAAAAAAAAAAAAAAAAAAAAAAAAAAAAAAAAAAAAAAAAAAAAAAAAAAAAAAAAAAAAAAAAAAAAAAAAAAAAAAAAAAAAAAAAAAAAAAAAAAAAAAAAAAAAAAAAAAAAAAAAAAAAAAAAAAAAAAAAAAAAAAAAAAAAAAAAAAAAAAAAAAAAAAAAAAAAAAAAAAAAAAAAAAAAAAAAAAAAAAAAAAAAAAAAAAAAAAAAAAAAAAAAAAAAAAAAAAAAAAAAAAAAAAAAAAAAAAAAAAAAAAAAAAAAAAAAAAAAAAAAAAAAAAAAAAAAAAAAAAAAAAAAAAAAAAAAAAAAAAAAAAAAAAAAAAAAAAAAAAAAAAAAAAAAAAAAAAAAAAAAAAAAAAAAAAAAAAAAAAAAAAAAAAAAAAAAAAAAAAAAAAAAAAAAAAAAAAAAAAAAAAAAAAAAAAAAAAAAAAAAAAAAAAAAAAAAAAAAAAAAAAAAAAAAAAAAAAAAAAAAAAAAAAAAAAAAAAAAAAAAAAAAAAAAAAAAAAAAAAAAAAAAAAAAAAAAAAAAAAAAAAAAAAAAAAAAAAAAAAAAAAAAAAAAAAAAAAAAAAAAAAAAAAAAAAAAAAAAAAAAAAAAAAAAAAAAAAAAAAAAAAAAAAAAAAAAAAAAAAAAAAAAAAAAAAAAAAAAAAAAAAAAAAAAAAAAAAAAAAAAAAAAAAAAAAAAAAAAAAAAAAAAAAAAAAAAAAAAAAAAAAAAAAAAAAAAAAAAAAAAAAAAAAAAAAAAAAAAAAAAAAAAAAAAAAAAAAAAAAAAAAAAAAAAAAAAAAAAAAAAAAAAAAAAAAAAAAAAAAAAAAAAAAAAAAAAAAAAAAAAAAAAAAAAAAAAAAAAAAAAAAAAAAAAAAAAAAAAAAAAAAAAAAAAAAAAAAAAAAAAAAAAAAAAAAAAAAAAAAAAAAAAAAAAAAAAAAAAAAAAAAAAAAAAAAAAAAAAAAAAAAAAAAAAAAAAAAAAAAAAAAAAAAAAAAAAAAAAAAAAAAAAAAAAAAAAAAAAAAAAAAAAAAAAAAAAAAAAAAAAAAAAAAAAAAAAAAAAAAAAAAAAAAAAAAAAAAAAAAAAAAAAAAAAAAAAAAAAAAAAAAAAAAAAAAAAAAAAAAAAAAAAAAAAAAAAAAAAAAAAAAAAAAAAAAAAAAAAAAAAAAAAAAAAAAAAAAAAAAAAAAAAAAAAAAAAAAAAAAAAAAAAAAAAAAAAAAAAAAAAAAAAAAAAAAAAAAAAAAAAAAAAAAAAAAAAAAAAAAAAAAAAAAAAAAAAAAAAAAAAAAAAAAAAAAAAAAAAAAAAAAAAAAAAAAAAAAAAAAAAAAAAAAAAAAAAAAAAAAAAAAAAAAAAAAAAAAAAAAAAAAAAAAAAAAAAAAAAAAAAAAAAAAAAAAAAAAAAAAAAAAAAAAAAAAAAAAAAAAAAAAAAAAAAAAAAAAAAAAAAAAAAAAAAAAAAAAAAAAAAAAAAAAAAAAAAAAAAAAAAAAAAAAAAAAAAAAAAAAAAAAAAAAAAAAAAAAAAAAAAAAAAAAAAAAAAAAAAAAAAAAAAAAAAAAAAAAAAAAAAAAAAAAAAAAAAAAAAAAAAAAAAAAAAAAAAAAAAAAAAAAAAAAAAAAAAAAAAAAAAAAAAAAAAAAAAAAAAAAAAAAAAAAAAAAAAAAAAAAAAAAAAAAAAAAAAAAAAAAAAAAAAAAAAAAAAAAAAAAAAAAAAAAAAAAAAAAAAAAAAAAAAAAAAAAAAAAAAAAAAAAAAAAAAAAAAAAAAAAAAAAAAAAAAAAAAAAAAAAAAAAAAAAAAAAAAAAAAAAAAAAAAAAAAAAAAAAAAAAAAAAAAAAAAAAAAAAAAAAAAAAAAAAAAAAAAAAAAAAAAAAAAAAAAAAAAAAAAAAAAAAAAAAAAAAAAAAAAAAAAAAAAAAAAAAAAAAAAAAAAAAAAAAAAAAAAAAAAAAAAAAAAAAAAAAAAAAAAAAAAAAAAAAAAAAAAAAAAAAAAAAAAAAAAAAAAAAAAAAAAAAAAAAAAAAAAAAAAAAAAAAAAAAAAAAAAAAAAAAAAAAAAAAAAAAAAAAAAAAAAAAAAAAAAAAAAAAAAAAAAAAAAAAAAAAAAAAAAAAAAAAAAAAAAAAAAAAAAAAAAAAAAAAAAAAAAAAAAAAAAAAAAAAAAAAAAAAAAAAAAAAAAAAAAAAAAAAAAAAAAAAAAAAAAAAAAAAAAAAAAAAAAAAAAAAAAAAAAAAAAAAAAAAAAAAAAAAAAAAAAAAAAAAAAAAAAAAAAAAAAAAAAAAAAAAAAAAAAAAAAAAAAAAAAAAAAAAAAAAAAAAAAAAAAAAAAAAAAAAAAAAAAAAAAAAAAAAAAAAAAAAAAAAAAAAAAAAAAAAAAAAAAAAAAAAAAAAAAAAAAAAAAAAAAAAAAAAAAAAAAAAAAAAAAAAAAAAAAAAAAAAAAAAAAAAAAAAAAAAAAAAAAAAAAAAAAAAAAAAAAAAAAAAAAAAAAAAAAAAAAAAAAAAAAAAAAAAAAAAAAAAAAAAAAAAAAAAAAAAAAAAAAAAAAAAAAAAAAAAAAAAAAAAAAAAAAAAAAAAAAAAAAAAAAAAAAAAAAAAAAAAAAAAAAAAAAAAAAAAAAAAAAAAAAAAAAAAAAAAAAAAAAAAAAAAAAAAAAAAAAAAAAAAAAAAAAAAAAAAAAAAAAAAAAAAAAAAAAAAAAAAAAAAAAAAAAAAAAAAAAAAAAAAAAAAAAAAAAAAAAAAAAAAAAAAAAAAAAAAAAAAAAAAAAAAAAAAAAAAAAAAAAAAAAAAAAAAAAAAAAAAAAAAAAAAAAAAAAAAAAAAAAAAAAAAAAAAAAAAAAAAAAAAAAAAAAAAAAAAAAAAAAAAAAAAAAAAAAAAAAAAAAAAAAAAAAAAAAAAAAAAAAAAAAAAAAAAAAAAAAAAAAAAAAAAAAAAAAAAAAAAAAAAAAAAAAAAAAAAAAAAAAAAAAAAAAAAAAAAAAAAAAAAAAAAAAAAAAAAAAAAAAAAAAAAAAAAAAAAAAAAAAAAAAAAAAAAAAAAAAAAAAAAAAAAAAAAAAAAAAAAAAAAAAAAAAAAAAAAAAAAAAAAAAAAAAAAAAAAAAAAAAAAAAAAAAAAAAAAAAAAAAAAAAAAAAAAAAAAAAAAAAAAAAAAAAAAAAAAAAAAAAAAAAAAAAAAAAAAAAAAAAAAAAAAAAAAAAAAAAAAAAAAAAAAAAAAAAAAAAAAAAAAAAAAAAAAAAAAAAAAAAAAAAAAAAAAAAAAAAAAAAAAAAAAAAAAAAAAAAAAAAAAAAAAAAAAAAAAAAAAAAAAAAAAAAAAAAAAAAAAAAAAAAAAAAAAAAAAAAAAAAAAAAAAAAAAAAAAAAAAAAAAAAAAAAAAAAAAAAAAAAAAAAAAAAAAAAAAAAAAAAAAAAAAAAAAAAAAAAAAAAAAAAAAAAAAAAAAAAAAAAAAAAAAAAAAAAAAAAAAAAAAAAAAAAAAAAAAAAAAAAAAAAAAAAAAAAAAAAAAAAAAAAAAAAAAAAAAAAAAAAAAAAAAAAAAAAAAAAAAAAAAAAAAAAAAAAAAAAAAAAAAAAAAAAAAAAAAAAAAAAAAAAAAAAAAAAAAAAAAAAAAAAAAAAAAAAAAAAAAAAAAAAAAAAAAAAAAAAAAAAAAAAAAAAAAAAAAAAAAAAAAAAAAAAAAAAAAAAAAAAAAAAAAAAAAAAAAAAAAAAAAAAAAAAAAAAAAAAAAAAAAAAAAAAAAAAAAAAAAAAAAAAAAAAAAAAAAAAAAAAAAAAAAAAAAAAAAAAAAAAAAAAAAAAAAAAAAAAAAAAAAAAAAAAAAAAAAAAAAAAAAAAAAAAAAAAAAAAAAAAAAAAAAAAAAAAAAAAAAAAAAAAAAAAAAAAAAAAAAAAAAAAAAAAAAAAAAAAAAAAAAAAAAAAAAAAAAAAAAAAAAAAAAAAAAAAAAAAAAAAAAAAAAAAAAAAAAAAAAAAAAAAAAAAAAAAAAAAAAAAAAAAAAAAAAAAAAAAAAAAAAAAAAAAAAAAAAAAAAAAAAAAAAAAAAAAAAAAAAAAAAAAAAAAAAAAAAAAAAAAAAAAAAAAAAAAAAAAAAAAAAAAAAAAAAAAAAAAAAAAAAAAAAAAAAAAAAAAAAAAAAAAAAAAAAAAAAAAAAAAAAAAAAAAAAAAAAAAAAAAAAAAAAAAAAAAAAAAAAAAAAAAAAAAAAAAAAAAAAAAAAAAAAAAAAAAAAAAAAAAAAAAAAAAAAAAAAAAAAAAAAAAAAAAAAAAAAAAAAAAAAAAAAAAAAAAAAAAAAAAAAAAAAAAAAAAAAAAAAAAAAAAAAAAAAAAAAAAAAAAAAAAAAAAAAAAAAAAAAAAAAAAAAAAAAAAAAAAAAAAAAAAAAAAAAAAAAAAAAAAAAAAAAAAAAAAAAAAAAAAAAAAAAAAAAAAAAAAAAAAAAAAAAAAAAAAAAAAAAAAAAAAAAAAAAAAAAAAAAAAAAAAAAAAAAAAAAAAAAAAAAAAAAAAAAAAAAAAAAAAAAAA==",
          "dtype": "f8",
          "shape": "10, 50"
         },
         "type": "surface",
         "x": {
          "bdata": "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",
          "dtype": "f8",
          "shape": "10, 50"
         },
         "y": {
          "bdata": "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",
          "dtype": "f8",
          "shape": "10, 50"
         },
         "z": {
          "bdata": "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",
          "dtype": "f8",
          "shape": "10, 50"
         }
        },
        {
         "cmax": 1,
         "cmin": 0,
         "colorbar": {
          "title": {
           "text": "a value"
          }
         },
         "colorscale": [
          [
           0,
           "rgb(0,0,0)"
          ],
          [
           0.3333333333333333,
           "rgb(230,0,0)"
          ],
          [
           0.6666666666666666,
           "rgb(255,210,0)"
          ],
          [
           1,
           "rgb(255,255,255)"
          ]
         ],
         "name": "a=0.8",
         "opacity": 0.7,
         "showscale": true,
         "surfacecolor": {
          "bdata": "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",
          "dtype": "f8",
          "shape": "10, 50"
         },
         "type": "surface",
         "x": {
          "bdata": "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",
          "dtype": "f8",
          "shape": "10, 50"
         },
         "y": {
          "bdata": "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",
          "dtype": "f8",
          "shape": "10, 50"
         },
         "z": {
          "bdata": "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",
          "dtype": "f8",
          "shape": "10, 50"
         }
        },
        {
         "cmax": 1,
         "cmin": 0,
         "colorbar": {
          "title": {
           "text": "a value"
          }
         },
         "colorscale": [
          [
           0,
           "rgb(0,0,0)"
          ],
          [
           0.3333333333333333,
           "rgb(230,0,0)"
          ],
          [
           0.6666666666666666,
           "rgb(255,210,0)"
          ],
          [
           1,
           "rgb(255,255,255)"
          ]
         ],
         "name": "a=1.1",
         "opacity": 0.7,
         "showscale": true,
         "surfacecolor": {
          "bdata": "HcdxHMdxzD8dx3Ecx3HMPx3HcRzHccw/HcdxHMdxzD8dx3Ecx3HMPx3HcRzHccw/HcdxHMdxzD8dx3Ecx3HMPx3HcRzHccw/HcdxHMdxzD8dx3Ecx3HMPx3HcRzHccw/HcdxHMdxzD8dx3Ecx3HMPx3HcRzHccw/HcdxHMdxzD8dx3Ecx3HMPx3HcRzHccw/HcdxHMdxzD8dx3Ecx3HMPx3HcRzHccw/HcdxHMdxzD8dx3Ecx3HMPx3HcRzHccw/HcdxHMdxzD8dx3Ecx3HMPx3HcRzHccw/HcdxHMdxzD8dx3Ecx3HMPx3HcRzHccw/HcdxHMdxzD8dx3Ecx3HMPx3HcRzHccw/HcdxHMdxzD8dx3Ecx3HMPx3HcRzHccw/HcdxHMdxzD8dx3Ecx3HMPx3HcRzHccw/HcdxHMdxzD8dx3Ecx3HMPx3HcRzHccw/HcdxHMdxzD8dx3Ecx3HMPx3HcRzHccw/HcdxHMdxzD8dx3Ecx3HMPx3HcRzHccw/HcdxHMdxzD8dx3Ecx3HMPx3HcRzHccw/HcdxHMdxzD8dx3Ecx3HMPx3HcRzHccw/HcdxHMdxzD8dx3Ecx3HMPx3HcRzHccw/HcdxHMdxzD8dx3Ecx3HMPx3HcRzHccw/HcdxHMdxzD8dx3Ecx3HMPx3HcRzHccw/HcdxHMdxzD8dx3Ecx3HMPx3HcRzHccw/HcdxHMdxzD8dx3Ecx3HMPx3HcRzHccw/HcdxHMdxzD8dx3Ecx3HMPx3HcRzHccw/HcdxHMdxzD8dx3Ecx3HMPx3HcRzHccw/HcdxHMdxzD8dx3Ecx3HMPx3HcRzHccw/HcdxHMdxzD8dx3Ecx3HMPx3HcRzHccw/HcdxHMdxzD8dx3Ecx3HMPx3HcRzHccw/HcdxHMdxzD8dx3Ecx3HMPx3HcRzHccw/HcdxHMdxzD8dx3Ecx3HMPx3HcRzHccw/HcdxHMdxzD8dx3Ecx3HMPx3HcRzHccw/HcdxHMdxzD8dx3Ecx3HMPx3HcRzHccw/HcdxHMdxzD8dx3Ecx3HMPx3HcRzHccw/HcdxHMdxzD8dx3Ecx3HMPx3HcRzHccw/HcdxHMdxzD8dx3Ecx3HMPx3HcRzHccw/HcdxHMdxzD8dx3Ecx3HMPx3HcRzHccw/HcdxHMdxzD8dx3Ecx3HMPx3HcRzHccw/HcdxHMdxzD8dx3Ecx3HMPx3HcRzHccw/HcdxHMdxzD8dx3Ecx3HMPx3HcRzHccw/HcdxHMdxzD8dx3Ecx3HMPx3HcRzHccw/HcdxHMdxzD8dx3Ecx3HMPx3HcRzHccw/HcdxHMdxzD8dx3Ecx3HMPx3HcRzHccw/HcdxHMdxzD8dx3Ecx3HMPx3HcRzHccw/HcdxHMdxzD8dx3Ecx3HMPx3HcRzHccw/HcdxHMdxzD8dx3Ecx3HMPx3HcRzHccw/HcdxHMdxzD8dx3Ecx3HMPx3HcRzHccw/HcdxHMdxzD8dx3Ecx3HMPx3HcRzHccw/HcdxHMdxzD8dx3Ecx3HMPx3HcRzHccw/HcdxHMdxzD8dx3Ecx3HMPx3HcRzHccw/HcdxHMdxzD8dx3Ecx3HMPx3HcRzHccw/HcdxHMdxzD8dx3Ecx3HMPx3HcRzHccw/HcdxHMdxzD8dx3Ecx3HMPx3HcRzHccw/HcdxHMdxzD8dx3Ecx3HMPx3HcRzHccw/HcdxHMdxzD8dx3Ecx3HMPx3HcRzHccw/HcdxHMdxzD8dx3Ecx3HMPx3HcRzHccw/HcdxHMdxzD8dx3Ecx3HMPx3HcRzHccw/HcdxHMdxzD8dx3Ecx3HMPx3HcRzHccw/HcdxHMdxzD8dx3Ecx3HMPx3HcRzHccw/HcdxHMdxzD8dx3Ecx3HMPx3HcRzHccw/HcdxHMdxzD8dx3Ecx3HMPx3HcRzHccw/HcdxHMdxzD8dx3Ecx3HMPx3HcRzHccw/HcdxHMdxzD8dx3Ecx3HMPx3HcRzHccw/HcdxHMdxzD8dx3Ecx3HMPx3HcRzHccw/HcdxHMdxzD8dx3Ecx3HMPx3HcRzHccw/HcdxHMdxzD8dx3Ecx3HMPx3HcRzHccw/HcdxHMdxzD8dx3Ecx3HMPx3HcRzHccw/HcdxHMdxzD8dx3Ecx3HMPx3HcRzHccw/HcdxHMdxzD8dx3Ecx3HMPx3HcRzHccw/HcdxHMdxzD8dx3Ecx3HMPx3HcRzHccw/HcdxHMdxzD8dx3Ecx3HMPx3HcRzHccw/HcdxHMdxzD8dx3Ecx3HMPx3HcRzHccw/HcdxHMdxzD8dx3Ecx3HMPx3HcRzHccw/HcdxHMdxzD8dx3Ecx3HMPx3HcRzHccw/HcdxHMdxzD8dx3Ecx3HMPx3HcRzHccw/HcdxHMdxzD8dx3Ecx3HMPx3HcRzHccw/HcdxHMdxzD8dx3Ecx3HMPx3HcRzHccw/HcdxHMdxzD8dx3Ecx3HMPx3HcRzHccw/HcdxHMdxzD8dx3Ecx3HMPx3HcRzHccw/HcdxHMdxzD8dx3Ecx3HMPx3HcRzHccw/HcdxHMdxzD8dx3Ecx3HMPx3HcRzHccw/HcdxHMdxzD8dx3Ecx3HMPx3HcRzHccw/HcdxHMdxzD8dx3Ecx3HMPx3HcRzHccw/HcdxHMdxzD8dx3Ecx3HMPx3HcRzHccw/HcdxHMdxzD8dx3Ecx3HMPx3HcRzHccw/HcdxHMdxzD8dx3Ecx3HMPx3HcRzHccw/HcdxHMdxzD8dx3Ecx3HMPx3HcRzHccw/HcdxHMdxzD8dx3Ecx3HMPx3HcRzHccw/HcdxHMdxzD8dx3Ecx3HMPx3HcRzHccw/HcdxHMdxzD8dx3Ecx3HMPx3HcRzHccw/HcdxHMdxzD8dx3Ecx3HMPx3HcRzHccw/HcdxHMdxzD8dx3Ecx3HMPx3HcRzHccw/HcdxHMdxzD8dx3Ecx3HMPx3HcRzHccw/HcdxHMdxzD8dx3Ecx3HMPx3HcRzHccw/HcdxHMdxzD8dx3Ecx3HMPx3HcRzHccw/HcdxHMdxzD8dx3Ecx3HMPx3HcRzHccw/HcdxHMdxzD8dx3Ecx3HMPx3HcRzHccw/HcdxHMdxzD8dx3Ecx3HMPx3HcRzHccw/HcdxHMdxzD8dx3Ecx3HMPx3HcRzHccw/HcdxHMdxzD8dx3Ecx3HMPx3HcRzHccw/HcdxHMdxzD8dx3Ecx3HMPx3HcRzHccw/HcdxHMdxzD8dx3Ecx3HMPx3HcRzHccw/HcdxHMdxzD8dx3Ecx3HMPx3HcRzHccw/HcdxHMdxzD8dx3Ecx3HMPx3HcRzHccw/HcdxHMdxzD8dx3Ecx3HMPx3HcRzHccw/HcdxHMdxzD8dx3Ecx3HMPx3HcRzHccw/HcdxHMdxzD8dx3Ecx3HMPx3HcRzHccw/HcdxHMdxzD8dx3Ecx3HMPx3HcRzHccw/HcdxHMdxzD8dx3Ecx3HMPx3HcRzHccw/HcdxHMdxzD8dx3Ecx3HMPx3HcRzHccw/HcdxHMdxzD8dx3Ecx3HMPx3HcRzHccw/HcdxHMdxzD8dx3Ecx3HMPx3HcRzHccw/HcdxHMdxzD8dx3Ecx3HMPx3HcRzHccw/HcdxHMdxzD8dx3Ecx3HMPx3HcRzHccw/HcdxHMdxzD8dx3Ecx3HMPx3HcRzHccw/HcdxHMdxzD8dx3Ecx3HMPx3HcRzHccw/HcdxHMdxzD8dx3Ecx3HMPx3HcRzHccw/HcdxHMdxzD8dx3Ecx3HMPx3HcRzHccw/HcdxHMdxzD8dx3Ecx3HMPx3HcRzHccw/HcdxHMdxzD8dx3Ecx3HMPx3HcRzHccw/HcdxHMdxzD8dx3Ecx3HMPx3HcRzHccw/HcdxHMdxzD8dx3Ecx3HMPx3HcRzHccw/HcdxHMdxzD8dx3Ecx3HMPx3HcRzHccw/HcdxHMdxzD8dx3Ecx3HMPx3HcRzHccw/HcdxHMdxzD8dx3Ecx3HMPx3HcRzHccw/HcdxHMdxzD8dx3Ecx3HMPx3HcRzHccw/HcdxHMdxzD8dx3Ecx3HMPx3HcRzHccw/HcdxHMdxzD8dx3Ecx3HMPx3HcRzHccw/HcdxHMdxzD8dx3Ecx3HMPx3HcRzHccw/HcdxHMdxzD8dx3Ecx3HMPx3HcRzHccw/HcdxHMdxzD8dx3Ecx3HMPx3HcRzHccw/HcdxHMdxzD8dx3Ecx3HMPx3HcRzHccw/HcdxHMdxzD8dx3Ecx3HMPx3HcRzHccw/HcdxHMdxzD8dx3Ecx3HMPx3HcRzHccw/HcdxHMdxzD8dx3Ecx3HMPx3HcRzHccw/HcdxHMdxzD8dx3Ecx3HMPx3HcRzHccw/HcdxHMdxzD8dx3Ecx3HMPx3HcRzHccw/HcdxHMdxzD8dx3Ecx3HMPx3HcRzHccw/HcdxHMdxzD8dx3Ecx3HMPx3HcRzHccw/HcdxHMdxzD8dx3Ecx3HMPx3HcRzHccw/HcdxHMdxzD8dx3Ecx3HMPx3HcRzHccw/HcdxHMdxzD8dx3Ecx3HMPx3HcRzHccw/HcdxHMdxzD8dx3Ecx3HMPx3HcRzHccw/HcdxHMdxzD8dx3Ecx3HMPx3HcRzHccw/HcdxHMdxzD8dx3Ecx3HMPx3HcRzHccw/HcdxHMdxzD8dx3Ecx3HMPx3HcRzHccw/HcdxHMdxzD8dx3Ecx3HMPx3HcRzHccw/HcdxHMdxzD8dx3Ecx3HMPx3HcRzHccw/HcdxHMdxzD8dx3Ecx3HMPx3HcRzHccw/HcdxHMdxzD8dx3Ecx3HMPx3HcRzHccw/HcdxHMdxzD8dx3Ecx3HMPx3HcRzHccw/HcdxHMdxzD8dx3Ecx3HMPx3HcRzHccw/HcdxHMdxzD8dx3Ecx3HMPx3HcRzHccw/HcdxHMdxzD8dx3Ecx3HMPx3HcRzHccw/HcdxHMdxzD8dx3Ecx3HMPx3HcRzHccw/HcdxHMdxzD8dx3Ecx3HMPx3HcRzHccw/HcdxHMdxzD8dx3Ecx3HMPx3HcRzHccw/HcdxHMdxzD8dx3Ecx3HMPx3HcRzHccw/HcdxHMdxzD8dx3Ecx3HMPx3HcRzHccw/HcdxHMdxzD8dx3Ecx3HMPx3HcRzHccw/HcdxHMdxzD8dx3Ecx3HMPx3HcRzHccw/HcdxHMdxzD8dx3Ecx3HMPx3HcRzHccw/HcdxHMdxzD8dx3Ecx3HMPx3HcRzHccw/HcdxHMdxzD8dx3Ecx3HMPx3HcRzHccw/HcdxHMdxzD8dx3Ecx3HMPx3HcRzHccw/HcdxHMdxzD8dx3Ecx3HMPx3HcRzHccw/HcdxHMdxzD8dx3Ecx3HMPx3HcRzHccw/HcdxHMdxzD8dx3Ecx3HMPw==",
          "dtype": "f8",
          "shape": "10, 50"
         },
         "type": "surface",
         "x": {
          "bdata": "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",
          "dtype": "f8",
          "shape": "10, 50"
         },
         "y": {
          "bdata": "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",
          "dtype": "f8",
          "shape": "10, 50"
         },
         "z": {
          "bdata": "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",
          "dtype": "f8",
          "shape": "10, 50"
         }
        },
        {
         "cmax": 1,
         "cmin": 0,
         "colorbar": {
          "title": {
           "text": "a value"
          }
         },
         "colorscale": [
          [
           0,
           "rgb(0,0,0)"
          ],
          [
           0.3333333333333333,
           "rgb(230,0,0)"
          ],
          [
           0.6666666666666666,
           "rgb(255,210,0)"
          ],
          [
           1,
           "rgb(255,255,255)"
          ]
         ],
         "name": "a=1.3",
         "opacity": 0.7,
         "showscale": true,
         "surfacecolor": {
          "bdata": "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",
          "dtype": "f8",
          "shape": "10, 50"
         },
         "type": "surface",
         "x": {
          "bdata": "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",
          "dtype": "f8",
          "shape": "10, 50"
         },
         "y": {
          "bdata": "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",
          "dtype": "f8",
          "shape": "10, 50"
         },
         "z": {
          "bdata": "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",
          "dtype": "f8",
          "shape": "10, 50"
         }
        },
        {
         "cmax": 1,
         "cmin": 0,
         "colorbar": {
          "title": {
           "text": "a value"
          }
         },
         "colorscale": [
          [
           0,
           "rgb(0,0,0)"
          ],
          [
           0.3333333333333333,
           "rgb(230,0,0)"
          ],
          [
           0.6666666666666666,
           "rgb(255,210,0)"
          ],
          [
           1,
           "rgb(255,255,255)"
          ]
         ],
         "name": "a=1.6",
         "opacity": 0.7,
         "showscale": true,
         "surfacecolor": {
          "bdata": "HcdxHMdx3D8dx3Ecx3HcPx3HcRzHcdw/HcdxHMdx3D8dx3Ecx3HcPx3HcRzHcdw/HcdxHMdx3D8dx3Ecx3HcPx3HcRzHcdw/HcdxHMdx3D8dx3Ecx3HcPx3HcRzHcdw/HcdxHMdx3D8dx3Ecx3HcPx3HcRzHcdw/HcdxHMdx3D8dx3Ecx3HcPx3HcRzHcdw/HcdxHMdx3D8dx3Ecx3HcPx3HcRzHcdw/HcdxHMdx3D8dx3Ecx3HcPx3HcRzHcdw/HcdxHMdx3D8dx3Ecx3HcPx3HcRzHcdw/HcdxHMdx3D8dx3Ecx3HcPx3HcRzHcdw/HcdxHMdx3D8dx3Ecx3HcPx3HcRzHcdw/HcdxHMdx3D8dx3Ecx3HcPx3HcRzHcdw/HcdxHMdx3D8dx3Ecx3HcPx3HcRzHcdw/HcdxHMdx3D8dx3Ecx3HcPx3HcRzHcdw/HcdxHMdx3D8dx3Ecx3HcPx3HcRzHcdw/HcdxHMdx3D8dx3Ecx3HcPx3HcRzHcdw/HcdxHMdx3D8dx3Ecx3HcPx3HcRzHcdw/HcdxHMdx3D8dx3Ecx3HcPx3HcRzHcdw/HcdxHMdx3D8dx3Ecx3HcPx3HcRzHcdw/HcdxHMdx3D8dx3Ecx3HcPx3HcRzHcdw/HcdxHMdx3D8dx3Ecx3HcPx3HcRzHcdw/HcdxHMdx3D8dx3Ecx3HcPx3HcRzHcdw/HcdxHMdx3D8dx3Ecx3HcPx3HcRzHcdw/HcdxHMdx3D8dx3Ecx3HcPx3HcRzHcdw/HcdxHMdx3D8dx3Ecx3HcPx3HcRzHcdw/HcdxHMdx3D8dx3Ecx3HcPx3HcRzHcdw/HcdxHMdx3D8dx3Ecx3HcPx3HcRzHcdw/HcdxHMdx3D8dx3Ecx3HcPx3HcRzHcdw/HcdxHMdx3D8dx3Ecx3HcPx3HcRzHcdw/HcdxHMdx3D8dx3Ecx3HcPx3HcRzHcdw/HcdxHMdx3D8dx3Ecx3HcPx3HcRzHcdw/HcdxHMdx3D8dx3Ecx3HcPx3HcRzHcdw/HcdxHMdx3D8dx3Ecx3HcPx3HcRzHcdw/HcdxHMdx3D8dx3Ecx3HcPx3HcRzHcdw/HcdxHMdx3D8dx3Ecx3HcPx3HcRzHcdw/HcdxHMdx3D8dx3Ecx3HcPx3HcRzHcdw/HcdxHMdx3D8dx3Ecx3HcPx3HcRzHcdw/HcdxHMdx3D8dx3Ecx3HcPx3HcRzHcdw/HcdxHMdx3D8dx3Ecx3HcPx3HcRzHcdw/HcdxHMdx3D8dx3Ecx3HcPx3HcRzHcdw/HcdxHMdx3D8dx3Ecx3HcPx3HcRzHcdw/HcdxHMdx3D8dx3Ecx3HcPx3HcRzHcdw/HcdxHMdx3D8dx3Ecx3HcPx3HcRzHcdw/HcdxHMdx3D8dx3Ecx3HcPx3HcRzHcdw/HcdxHMdx3D8dx3Ecx3HcPx3HcRzHcdw/HcdxHMdx3D8dx3Ecx3HcPx3HcRzHcdw/HcdxHMdx3D8dx3Ecx3HcPx3HcRzHcdw/HcdxHMdx3D8dx3Ecx3HcPx3HcRzHcdw/HcdxHMdx3D8dx3Ecx3HcPx3HcRzHcdw/HcdxHMdx3D8dx3Ecx3HcPx3HcRzHcdw/HcdxHMdx3D8dx3Ecx3HcPx3HcRzHcdw/HcdxHMdx3D8dx3Ecx3HcPx3HcRzHcdw/HcdxHMdx3D8dx3Ecx3HcPx3HcRzHcdw/HcdxHMdx3D8dx3Ecx3HcPx3HcRzHcdw/HcdxHMdx3D8dx3Ecx3HcPx3HcRzHcdw/HcdxHMdx3D8dx3Ecx3HcPx3HcRzHcdw/HcdxHMdx3D8dx3Ecx3HcPx3HcRzHcdw/HcdxHMdx3D8dx3Ecx3HcPx3HcRzHcdw/HcdxHMdx3D8dx3Ecx3HcPx3HcRzHcdw/HcdxHMdx3D8dx3Ecx3HcPx3HcRzHcdw/HcdxHMdx3D8dx3Ecx3HcPx3HcRzHcdw/HcdxHMdx3D8dx3Ecx3HcPx3HcRzHcdw/HcdxHMdx3D8dx3Ecx3HcPx3HcRzHcdw/HcdxHMdx3D8dx3Ecx3HcPx3HcRzHcdw/HcdxHMdx3D8dx3Ecx3HcPx3HcRzHcdw/HcdxHMdx3D8dx3Ecx3HcPx3HcRzHcdw/HcdxHMdx3D8dx3Ecx3HcPx3HcRzHcdw/HcdxHMdx3D8dx3Ecx3HcPx3HcRzHcdw/HcdxHMdx3D8dx3Ecx3HcPx3HcRzHcdw/HcdxHMdx3D8dx3Ecx3HcPx3HcRzHcdw/HcdxHMdx3D8dx3Ecx3HcPx3HcRzHcdw/HcdxHMdx3D8dx3Ecx3HcPx3HcRzHcdw/HcdxHMdx3D8dx3Ecx3HcPx3HcRzHcdw/HcdxHMdx3D8dx3Ecx3HcPx3HcRzHcdw/HcdxHMdx3D8dx3Ecx3HcPx3HcRzHcdw/HcdxHMdx3D8dx3Ecx3HcPx3HcRzHcdw/HcdxHMdx3D8dx3Ecx3HcPx3HcRzHcdw/HcdxHMdx3D8dx3Ecx3HcPx3HcRzHcdw/HcdxHMdx3D8dx3Ecx3HcPx3HcRzHcdw/HcdxHMdx3D8dx3Ecx3HcPx3HcRzHcdw/HcdxHMdx3D8dx3Ecx3HcPx3HcRzHcdw/HcdxHMdx3D8dx3Ecx3HcPx3HcRzHcdw/HcdxHMdx3D8dx3Ecx3HcPx3HcRzHcdw/HcdxHMdx3D8dx3Ecx3HcPx3HcRzHcdw/HcdxHMdx3D8dx3Ecx3HcPx3HcRzHcdw/HcdxHMdx3D8dx3Ecx3HcPx3HcRzHcdw/HcdxHMdx3D8dx3Ecx3HcPx3HcRzHcdw/HcdxHMdx3D8dx3Ecx3HcPx3HcRzHcdw/HcdxHMdx3D8dx3Ecx3HcPx3HcRzHcdw/HcdxHMdx3D8dx3Ecx3HcPx3HcRzHcdw/HcdxHMdx3D8dx3Ecx3HcPx3HcRzHcdw/HcdxHMdx3D8dx3Ecx3HcPx3HcRzHcdw/HcdxHMdx3D8dx3Ecx3HcPx3HcRzHcdw/HcdxHMdx3D8dx3Ecx3HcPx3HcRzHcdw/HcdxHMdx3D8dx3Ecx3HcPx3HcRzHcdw/HcdxHMdx3D8dx3Ecx3HcPx3HcRzHcdw/HcdxHMdx3D8dx3Ecx3HcPx3HcRzHcdw/HcdxHMdx3D8dx3Ecx3HcPx3HcRzHcdw/HcdxHMdx3D8dx3Ecx3HcPx3HcRzHcdw/HcdxHMdx3D8dx3Ecx3HcPx3HcRzHcdw/HcdxHMdx3D8dx3Ecx3HcPx3HcRzHcdw/HcdxHMdx3D8dx3Ecx3HcPx3HcRzHcdw/HcdxHMdx3D8dx3Ecx3HcPx3HcRzHcdw/HcdxHMdx3D8dx3Ecx3HcPx3HcRzHcdw/HcdxHMdx3D8dx3Ecx3HcPx3HcRzHcdw/HcdxHMdx3D8dx3Ecx3HcPx3HcRzHcdw/HcdxHMdx3D8dx3Ecx3HcPx3HcRzHcdw/HcdxHMdx3D8dx3Ecx3HcPx3HcRzHcdw/HcdxHMdx3D8dx3Ecx3HcPx3HcRzHcdw/HcdxHMdx3D8dx3Ecx3HcPx3HcRzHcdw/HcdxHMdx3D8dx3Ecx3HcPx3HcRzHcdw/HcdxHMdx3D8dx3Ecx3HcPx3HcRzHcdw/HcdxHMdx3D8dx3Ecx3HcPx3HcRzHcdw/HcdxHMdx3D8dx3Ecx3HcPx3HcRzHcdw/HcdxHMdx3D8dx3Ecx3HcPx3HcRzHcdw/HcdxHMdx3D8dx3Ecx3HcPx3HcRzHcdw/HcdxHMdx3D8dx3Ecx3HcPx3HcRzHcdw/HcdxHMdx3D8dx3Ecx3HcPx3HcRzHcdw/HcdxHMdx3D8dx3Ecx3HcPx3HcRzHcdw/HcdxHMdx3D8dx3Ecx3HcPx3HcRzHcdw/HcdxHMdx3D8dx3Ecx3HcPx3HcRzHcdw/HcdxHMdx3D8dx3Ecx3HcPx3HcRzHcdw/HcdxHMdx3D8dx3Ecx3HcPx3HcRzHcdw/HcdxHMdx3D8dx3Ecx3HcPx3HcRzHcdw/HcdxHMdx3D8dx3Ecx3HcPx3HcRzHcdw/HcdxHMdx3D8dx3Ecx3HcPx3HcRzHcdw/HcdxHMdx3D8dx3Ecx3HcPx3HcRzHcdw/HcdxHMdx3D8dx3Ecx3HcPx3HcRzHcdw/HcdxHMdx3D8dx3Ecx3HcPx3HcRzHcdw/HcdxHMdx3D8dx3Ecx3HcPx3HcRzHcdw/HcdxHMdx3D8dx3Ecx3HcPx3HcRzHcdw/HcdxHMdx3D8dx3Ecx3HcPx3HcRzHcdw/HcdxHMdx3D8dx3Ecx3HcPx3HcRzHcdw/HcdxHMdx3D8dx3Ecx3HcPx3HcRzHcdw/HcdxHMdx3D8dx3Ecx3HcPx3HcRzHcdw/HcdxHMdx3D8dx3Ecx3HcPx3HcRzHcdw/HcdxHMdx3D8dx3Ecx3HcPx3HcRzHcdw/HcdxHMdx3D8dx3Ecx3HcPx3HcRzHcdw/HcdxHMdx3D8dx3Ecx3HcPx3HcRzHcdw/HcdxHMdx3D8dx3Ecx3HcPx3HcRzHcdw/HcdxHMdx3D8dx3Ecx3HcPx3HcRzHcdw/HcdxHMdx3D8dx3Ecx3HcPx3HcRzHcdw/HcdxHMdx3D8dx3Ecx3HcPx3HcRzHcdw/HcdxHMdx3D8dx3Ecx3HcPx3HcRzHcdw/HcdxHMdx3D8dx3Ecx3HcPx3HcRzHcdw/HcdxHMdx3D8dx3Ecx3HcPx3HcRzHcdw/HcdxHMdx3D8dx3Ecx3HcPx3HcRzHcdw/HcdxHMdx3D8dx3Ecx3HcPx3HcRzHcdw/HcdxHMdx3D8dx3Ecx3HcPx3HcRzHcdw/HcdxHMdx3D8dx3Ecx3HcPx3HcRzHcdw/HcdxHMdx3D8dx3Ecx3HcPx3HcRzHcdw/HcdxHMdx3D8dx3Ecx3HcPx3HcRzHcdw/HcdxHMdx3D8dx3Ecx3HcPx3HcRzHcdw/HcdxHMdx3D8dx3Ecx3HcPx3HcRzHcdw/HcdxHMdx3D8dx3Ecx3HcPx3HcRzHcdw/HcdxHMdx3D8dx3Ecx3HcPx3HcRzHcdw/HcdxHMdx3D8dx3Ecx3HcPx3HcRzHcdw/HcdxHMdx3D8dx3Ecx3HcPx3HcRzHcdw/HcdxHMdx3D8dx3Ecx3HcPx3HcRzHcdw/HcdxHMdx3D8dx3Ecx3HcPx3HcRzHcdw/HcdxHMdx3D8dx3Ecx3HcPx3HcRzHcdw/HcdxHMdx3D8dx3Ecx3HcPx3HcRzHcdw/HcdxHMdx3D8dx3Ecx3HcPx3HcRzHcdw/HcdxHMdx3D8dx3Ecx3HcPx3HcRzHcdw/HcdxHMdx3D8dx3Ecx3HcPx3HcRzHcdw/HcdxHMdx3D8dx3Ecx3HcPx3HcRzHcdw/HcdxHMdx3D8dx3Ecx3HcPw==",
          "dtype": "f8",
          "shape": "10, 50"
         },
         "type": "surface",
         "x": {
          "bdata": "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",
          "dtype": "f8",
          "shape": "10, 50"
         },
         "y": {
          "bdata": "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",
          "dtype": "f8",
          "shape": "10, 50"
         },
         "z": {
          "bdata": "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",
          "dtype": "f8",
          "shape": "10, 50"
         }
        },
        {
         "cmax": 1,
         "cmin": 0,
         "colorbar": {
          "title": {
           "text": "a value"
          }
         },
         "colorscale": [
          [
           0,
           "rgb(0,0,0)"
          ],
          [
           0.3333333333333333,
           "rgb(230,0,0)"
          ],
          [
           0.6666666666666666,
           "rgb(255,210,0)"
          ],
          [
           1,
           "rgb(255,255,255)"
          ]
         ],
         "name": "a=1.9",
         "opacity": 0.7,
         "showscale": true,
         "surfacecolor": {
          "bdata": "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",
          "dtype": "f8",
          "shape": "10, 50"
         },
         "type": "surface",
         "x": {
          "bdata": "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",
          "dtype": "f8",
          "shape": "10, 50"
         },
         "y": {
          "bdata": "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",
          "dtype": "f8",
          "shape": "10, 50"
         },
         "z": {
          "bdata": "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",
          "dtype": "f8",
          "shape": "10, 50"
         }
        },
        {
         "cmax": 1,
         "cmin": 0,
         "colorbar": {
          "title": {
           "text": "a value"
          }
         },
         "colorscale": [
          [
           0,
           "rgb(0,0,0)"
          ],
          [
           0.3333333333333333,
           "rgb(230,0,0)"
          ],
          [
           0.6666666666666666,
           "rgb(255,210,0)"
          ],
          [
           1,
           "rgb(255,255,255)"
          ]
         ],
         "name": "a=2.2",
         "opacity": 0.7,
         "showscale": true,
         "surfacecolor": {
          "bdata": "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",
          "dtype": "f8",
          "shape": "10, 50"
         },
         "type": "surface",
         "x": {
          "bdata": "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",
          "dtype": "f8",
          "shape": "10, 50"
         },
         "y": {
          "bdata": "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",
          "dtype": "f8",
          "shape": "10, 50"
         },
         "z": {
          "bdata": "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",
          "dtype": "f8",
          "shape": "10, 50"
         }
        },
        {
         "cmax": 1,
         "cmin": 0,
         "colorbar": {
          "title": {
           "text": "a value"
          }
         },
         "colorscale": [
          [
           0,
           "rgb(0,0,0)"
          ],
          [
           0.3333333333333333,
           "rgb(230,0,0)"
          ],
          [
           0.6666666666666666,
           "rgb(255,210,0)"
          ],
          [
           1,
           "rgb(255,255,255)"
          ]
         ],
         "name": "a=2.4",
         "opacity": 0.7,
         "showscale": true,
         "surfacecolor": {
          "bdata": "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",
          "dtype": "f8",
          "shape": "10, 50"
         },
         "type": "surface",
         "x": {
          "bdata": "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",
          "dtype": "f8",
          "shape": "10, 50"
         },
         "y": {
          "bdata": "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",
          "dtype": "f8",
          "shape": "10, 50"
         },
         "z": {
          "bdata": "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",
          "dtype": "f8",
          "shape": "10, 50"
         }
        },
        {
         "cmax": 1,
         "cmin": 0,
         "colorbar": {
          "title": {
           "text": "a value"
          }
         },
         "colorscale": [
          [
           0,
           "rgb(0,0,0)"
          ],
          [
           0.3333333333333333,
           "rgb(230,0,0)"
          ],
          [
           0.6666666666666666,
           "rgb(255,210,0)"
          ],
          [
           1,
           "rgb(255,255,255)"
          ]
         ],
         "name": "a=2.7",
         "opacity": 0.7,
         "showscale": true,
         "surfacecolor": {
          "bdata": "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",
          "dtype": "f8",
          "shape": "10, 50"
         },
         "type": "surface",
         "x": {
          "bdata": "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",
          "dtype": "f8",
          "shape": "10, 50"
         },
         "y": {
          "bdata": "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",
          "dtype": "f8",
          "shape": "10, 50"
         },
         "z": {
          "bdata": "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",
          "dtype": "f8",
          "shape": "10, 50"
         }
        },
        {
         "cmax": 1,
         "cmin": 0,
         "colorbar": {
          "title": {
           "text": "a value"
          }
         },
         "colorscale": [
          [
           0,
           "rgb(0,0,0)"
          ],
          [
           0.3333333333333333,
           "rgb(230,0,0)"
          ],
          [
           0.6666666666666666,
           "rgb(255,210,0)"
          ],
          [
           1,
           "rgb(255,255,255)"
          ]
         ],
         "name": "a=3.0",
         "opacity": 0.7,
         "showscale": true,
         "surfacecolor": {
          "bdata": "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",
          "dtype": "f8",
          "shape": "10, 50"
         },
         "type": "surface",
         "x": {
          "bdata": "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",
          "dtype": "f8",
          "shape": "10, 50"
         },
         "y": {
          "bdata": "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",
          "dtype": "f8",
          "shape": "10, 50"
         },
         "z": {
          "bdata": "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",
          "dtype": "f8",
          "shape": "10, 50"
         }
        }
       ],
       "layout": {
        "scene": {
         "xaxis": {
          "title": {
           "text": "X axis"
          }
         },
         "yaxis": {
          "title": {
           "text": "Y axis"
          }
         },
         "zaxis": {
          "title": {
           "text": "Z axis"
          }
         }
        },
        "template": {
         "data": {
          "bar": [
           {
            "error_x": {
             "color": "#2a3f5f"
            },
            "error_y": {
             "color": "#2a3f5f"
            },
            "marker": {
             "line": {
              "color": "#E5ECF6",
              "width": 0.5
             },
             "pattern": {
              "fillmode": "overlay",
              "size": 10,
              "solidity": 0.2
             }
            },
            "type": "bar"
           }
          ],
          "barpolar": [
           {
            "marker": {
             "line": {
              "color": "#E5ECF6",
              "width": 0.5
             },
             "pattern": {
              "fillmode": "overlay",
              "size": 10,
              "solidity": 0.2
             }
            },
            "type": "barpolar"
           }
          ],
          "carpet": [
           {
            "aaxis": {
             "endlinecolor": "#2a3f5f",
             "gridcolor": "white",
             "linecolor": "white",
             "minorgridcolor": "white",
             "startlinecolor": "#2a3f5f"
            },
            "baxis": {
             "endlinecolor": "#2a3f5f",
             "gridcolor": "white",
             "linecolor": "white",
             "minorgridcolor": "white",
             "startlinecolor": "#2a3f5f"
            },
            "type": "carpet"
           }
          ],
          "choropleth": [
           {
            "colorbar": {
             "outlinewidth": 0,
             "ticks": ""
            },
            "type": "choropleth"
           }
          ],
          "contour": [
           {
            "colorbar": {
             "outlinewidth": 0,
             "ticks": ""
            },
            "colorscale": [
             [
              0,
              "#0d0887"
             ],
             [
              0.1111111111111111,
              "#46039f"
             ],
             [
              0.2222222222222222,
              "#7201a8"
             ],
             [
              0.3333333333333333,
              "#9c179e"
             ],
             [
              0.4444444444444444,
              "#bd3786"
             ],
             [
              0.5555555555555556,
              "#d8576b"
             ],
             [
              0.6666666666666666,
              "#ed7953"
             ],
             [
              0.7777777777777778,
              "#fb9f3a"
             ],
             [
              0.8888888888888888,
              "#fdca26"
             ],
             [
              1,
              "#f0f921"
             ]
            ],
            "type": "contour"
           }
          ],
          "contourcarpet": [
           {
            "colorbar": {
             "outlinewidth": 0,
             "ticks": ""
            },
            "type": "contourcarpet"
           }
          ],
          "heatmap": [
           {
            "colorbar": {
             "outlinewidth": 0,
             "ticks": ""
            },
            "colorscale": [
             [
              0,
              "#0d0887"
             ],
             [
              0.1111111111111111,
              "#46039f"
             ],
             [
              0.2222222222222222,
              "#7201a8"
             ],
             [
              0.3333333333333333,
              "#9c179e"
             ],
             [
              0.4444444444444444,
              "#bd3786"
             ],
             [
              0.5555555555555556,
              "#d8576b"
             ],
             [
              0.6666666666666666,
              "#ed7953"
             ],
             [
              0.7777777777777778,
              "#fb9f3a"
             ],
             [
              0.8888888888888888,
              "#fdca26"
             ],
             [
              1,
              "#f0f921"
             ]
            ],
            "type": "heatmap"
           }
          ],
          "histogram": [
           {
            "marker": {
             "pattern": {
              "fillmode": "overlay",
              "size": 10,
              "solidity": 0.2
             }
            },
            "type": "histogram"
           }
          ],
          "histogram2d": [
           {
            "colorbar": {
             "outlinewidth": 0,
             "ticks": ""
            },
            "colorscale": [
             [
              0,
              "#0d0887"
             ],
             [
              0.1111111111111111,
              "#46039f"
             ],
             [
              0.2222222222222222,
              "#7201a8"
             ],
             [
              0.3333333333333333,
              "#9c179e"
             ],
             [
              0.4444444444444444,
              "#bd3786"
             ],
             [
              0.5555555555555556,
              "#d8576b"
             ],
             [
              0.6666666666666666,
              "#ed7953"
             ],
             [
              0.7777777777777778,
              "#fb9f3a"
             ],
             [
              0.8888888888888888,
              "#fdca26"
             ],
             [
              1,
              "#f0f921"
             ]
            ],
            "type": "histogram2d"
           }
          ],
          "histogram2dcontour": [
           {
            "colorbar": {
             "outlinewidth": 0,
             "ticks": ""
            },
            "colorscale": [
             [
              0,
              "#0d0887"
             ],
             [
              0.1111111111111111,
              "#46039f"
             ],
             [
              0.2222222222222222,
              "#7201a8"
             ],
             [
              0.3333333333333333,
              "#9c179e"
             ],
             [
              0.4444444444444444,
              "#bd3786"
             ],
             [
              0.5555555555555556,
              "#d8576b"
             ],
             [
              0.6666666666666666,
              "#ed7953"
             ],
             [
              0.7777777777777778,
              "#fb9f3a"
             ],
             [
              0.8888888888888888,
              "#fdca26"
             ],
             [
              1,
              "#f0f921"
             ]
            ],
            "type": "histogram2dcontour"
           }
          ],
          "mesh3d": [
           {
            "colorbar": {
             "outlinewidth": 0,
             "ticks": ""
            },
            "type": "mesh3d"
           }
          ],
          "parcoords": [
           {
            "line": {
             "colorbar": {
              "outlinewidth": 0,
              "ticks": ""
             }
            },
            "type": "parcoords"
           }
          ],
          "pie": [
           {
            "automargin": true,
            "type": "pie"
           }
          ],
          "scatter": [
           {
            "fillpattern": {
             "fillmode": "overlay",
             "size": 10,
             "solidity": 0.2
            },
            "type": "scatter"
           }
          ],
          "scatter3d": [
           {
            "line": {
             "colorbar": {
              "outlinewidth": 0,
              "ticks": ""
             }
            },
            "marker": {
             "colorbar": {
              "outlinewidth": 0,
              "ticks": ""
             }
            },
            "type": "scatter3d"
           }
          ],
          "scattercarpet": [
           {
            "marker": {
             "colorbar": {
              "outlinewidth": 0,
              "ticks": ""
             }
            },
            "type": "scattercarpet"
           }
          ],
          "scattergeo": [
           {
            "marker": {
             "colorbar": {
              "outlinewidth": 0,
              "ticks": ""
             }
            },
            "type": "scattergeo"
           }
          ],
          "scattergl": [
           {
            "marker": {
             "colorbar": {
              "outlinewidth": 0,
              "ticks": ""
             }
            },
            "type": "scattergl"
           }
          ],
          "scattermap": [
           {
            "marker": {
             "colorbar": {
              "outlinewidth": 0,
              "ticks": ""
             }
            },
            "type": "scattermap"
           }
          ],
          "scattermapbox": [
           {
            "marker": {
             "colorbar": {
              "outlinewidth": 0,
              "ticks": ""
             }
            },
            "type": "scattermapbox"
           }
          ],
          "scatterpolar": [
           {
            "marker": {
             "colorbar": {
              "outlinewidth": 0,
              "ticks": ""
             }
            },
            "type": "scatterpolar"
           }
          ],
          "scatterpolargl": [
           {
            "marker": {
             "colorbar": {
              "outlinewidth": 0,
              "ticks": ""
             }
            },
            "type": "scatterpolargl"
           }
          ],
          "scatterternary": [
           {
            "marker": {
             "colorbar": {
              "outlinewidth": 0,
              "ticks": ""
             }
            },
            "type": "scatterternary"
           }
          ],
          "surface": [
           {
            "colorbar": {
             "outlinewidth": 0,
             "ticks": ""
            },
            "colorscale": [
             [
              0,
              "#0d0887"
             ],
             [
              0.1111111111111111,
              "#46039f"
             ],
             [
              0.2222222222222222,
              "#7201a8"
             ],
             [
              0.3333333333333333,
              "#9c179e"
             ],
             [
              0.4444444444444444,
              "#bd3786"
             ],
             [
              0.5555555555555556,
              "#d8576b"
             ],
             [
              0.6666666666666666,
              "#ed7953"
             ],
             [
              0.7777777777777778,
              "#fb9f3a"
             ],
             [
              0.8888888888888888,
              "#fdca26"
             ],
             [
              1,
              "#f0f921"
             ]
            ],
            "type": "surface"
           }
          ],
          "table": [
           {
            "cells": {
             "fill": {
              "color": "#EBF0F8"
             },
             "line": {
              "color": "white"
             }
            },
            "header": {
             "fill": {
              "color": "#C8D4E3"
             },
             "line": {
              "color": "white"
             }
            },
            "type": "table"
           }
          ]
         },
         "layout": {
          "annotationdefaults": {
           "arrowcolor": "#2a3f5f",
           "arrowhead": 0,
           "arrowwidth": 1
          },
          "autotypenumbers": "strict",
          "coloraxis": {
           "colorbar": {
            "outlinewidth": 0,
            "ticks": ""
           }
          },
          "colorscale": {
           "diverging": [
            [
             0,
             "#8e0152"
            ],
            [
             0.1,
             "#c51b7d"
            ],
            [
             0.2,
             "#de77ae"
            ],
            [
             0.3,
             "#f1b6da"
            ],
            [
             0.4,
             "#fde0ef"
            ],
            [
             0.5,
             "#f7f7f7"
            ],
            [
             0.6,
             "#e6f5d0"
            ],
            [
             0.7,
             "#b8e186"
            ],
            [
             0.8,
             "#7fbc41"
            ],
            [
             0.9,
             "#4d9221"
            ],
            [
             1,
             "#276419"
            ]
           ],
           "sequential": [
            [
             0,
             "#0d0887"
            ],
            [
             0.1111111111111111,
             "#46039f"
            ],
            [
             0.2222222222222222,
             "#7201a8"
            ],
            [
             0.3333333333333333,
             "#9c179e"
            ],
            [
             0.4444444444444444,
             "#bd3786"
            ],
            [
             0.5555555555555556,
             "#d8576b"
            ],
            [
             0.6666666666666666,
             "#ed7953"
            ],
            [
             0.7777777777777778,
             "#fb9f3a"
            ],
            [
             0.8888888888888888,
             "#fdca26"
            ],
            [
             1,
             "#f0f921"
            ]
           ],
           "sequentialminus": [
            [
             0,
             "#0d0887"
            ],
            [
             0.1111111111111111,
             "#46039f"
            ],
            [
             0.2222222222222222,
             "#7201a8"
            ],
            [
             0.3333333333333333,
             "#9c179e"
            ],
            [
             0.4444444444444444,
             "#bd3786"
            ],
            [
             0.5555555555555556,
             "#d8576b"
            ],
            [
             0.6666666666666666,
             "#ed7953"
            ],
            [
             0.7777777777777778,
             "#fb9f3a"
            ],
            [
             0.8888888888888888,
             "#fdca26"
            ],
            [
             1,
             "#f0f921"
            ]
           ]
          },
          "colorway": [
           "#636efa",
           "#EF553B",
           "#00cc96",
           "#ab63fa",
           "#FFA15A",
           "#19d3f3",
           "#FF6692",
           "#B6E880",
           "#FF97FF",
           "#FECB52"
          ],
          "font": {
           "color": "#2a3f5f"
          },
          "geo": {
           "bgcolor": "white",
           "lakecolor": "white",
           "landcolor": "#E5ECF6",
           "showlakes": true,
           "showland": true,
           "subunitcolor": "white"
          },
          "hoverlabel": {
           "align": "left"
          },
          "hovermode": "closest",
          "mapbox": {
           "style": "light"
          },
          "paper_bgcolor": "white",
          "plot_bgcolor": "#E5ECF6",
          "polar": {
           "angularaxis": {
            "gridcolor": "white",
            "linecolor": "white",
            "ticks": ""
           },
           "bgcolor": "#E5ECF6",
           "radialaxis": {
            "gridcolor": "white",
            "linecolor": "white",
            "ticks": ""
           }
          },
          "scene": {
           "xaxis": {
            "backgroundcolor": "#E5ECF6",
            "gridcolor": "white",
            "gridwidth": 2,
            "linecolor": "white",
            "showbackground": true,
            "ticks": "",
            "zerolinecolor": "white"
           },
           "yaxis": {
            "backgroundcolor": "#E5ECF6",
            "gridcolor": "white",
            "gridwidth": 2,
            "linecolor": "white",
            "showbackground": true,
            "ticks": "",
            "zerolinecolor": "white"
           },
           "zaxis": {
            "backgroundcolor": "#E5ECF6",
            "gridcolor": "white",
            "gridwidth": 2,
            "linecolor": "white",
            "showbackground": true,
            "ticks": "",
            "zerolinecolor": "white"
           }
          },
          "shapedefaults": {
           "line": {
            "color": "#2a3f5f"
           }
          },
          "ternary": {
           "aaxis": {
            "gridcolor": "white",
            "linecolor": "white",
            "ticks": ""
           },
           "baxis": {
            "gridcolor": "white",
            "linecolor": "white",
            "ticks": ""
           },
           "bgcolor": "#E5ECF6",
           "caxis": {
            "gridcolor": "white",
            "linecolor": "white",
            "ticks": ""
           }
          },
          "title": {
           "x": 0.05
          },
          "xaxis": {
           "automargin": true,
           "gridcolor": "white",
           "linecolor": "white",
           "ticks": "",
           "title": {
            "standoff": 15
           },
           "zerolinecolor": "white",
           "zerolinewidth": 2
          },
          "yaxis": {
           "automargin": true,
           "gridcolor": "white",
           "linecolor": "white",
           "ticks": "",
           "title": {
            "standoff": 15
           },
           "zerolinecolor": "white",
           "zerolinewidth": 2
          }
         }
        }
       }
      }
     },
     "metadata": {},
     "output_type": "display_data"
    }
   ],
   "source": [
    "import numpy as np\n",
    "import plotly.graph_objects as go\n",
    "import ipywidgets as widgets\n",
    "import plotly.io as pio\n",
    "import threading\n",
    "import time\n",
    "\n",
    "x = np.linspace(-3, 3, 50)\n",
    "b_values = np.linspace(-2, 2, 10)\n",
    "a_values = np.linspace(0.5, 3.0, 10)\n",
    "X, B = np.meshgrid(x, b_values)\n",
    "\n",
    "a_min, a_max = a_values.min(), a_values.max()\n",
    "\n",
    "# Shared state variables\n",
    "slider_value = 0.0\n",
    "user_interacting = False\n",
    "last_interaction_time = None\n",
    "resume_requested = False\n",
    "\n",
    "figure = go.Figure(\n",
    "    layout=go.Layout(scene={'xaxis_title': \"X axis\", 'yaxis_title': \"Y axis\", 'zaxis_title': \"Z axis\"})\n",
    ")\n",
    "\n",
    "for a in a_values:\n",
    "    Z = a * X**2 + slider_value * X + B\n",
    "    surface_color = np.full_like(Z, (a - a_min) / (a_max - a_min))\n",
    "\n",
    "    figure.add_trace(go.Surface(\n",
    "        z=Z, x=X, y=B,\n",
    "        surfacecolor=surface_color,\n",
    "        colorscale=\"Hot\",\n",
    "        cmin=0, cmax=1,\n",
    "        opacity=0.7, showscale=True,\n",
    "        colorbar_title=\"a value\",\n",
    "        name=f\"a={a:.1f}\"\n",
    "    ))\n",
    "\n",
    "def update_plot(c):\n",
    "    \"\"\"Update the plot with the given slider value.\"\"\"\n",
    "    with figure.batch_update():\n",
    "        for i, a in enumerate(a_values):\n",
    "            Z_new = a * X**2 + c * X + B\n",
    "            surface_color = np.full_like(Z_new, (a - a_min) / (a_max - a_min))\n",
    "            figure.data[i].z = Z_new\n",
    "            figure.data[i].surfacecolor = surface_color\n",
    "\n",
    "def on_slider_change(change):\n",
    "    \"\"\"Detects when the slider is moved.\"\"\"\n",
    "    global slider_value, user_interacting, last_interaction_time, resume_requested\n",
    "    slider_value = change[\"new\"]\n",
    "    last_interaction_time = time.time()\n",
    "    user_interacting = True  # Pause animation immediately\n",
    "    resume_requested = False  # Prevent unwanted jumps\n",
    "    update_plot(slider_value)\n",
    "\n",
    "def debounce_resume():\n",
    "    \"\"\"Waits for 1.5s after the last interaction before resuming animation.\"\"\"\n",
    "    global user_interacting, last_interaction_time, resume_requested\n",
    "    while True:\n",
    "        if user_interacting and last_interaction_time:\n",
    "            elapsed = time.time() - last_interaction_time\n",
    "            if elapsed > 1.5:\n",
    "                user_interacting = False\n",
    "                resume_requested = True  # Allow animation to continue\n",
    "        time.sleep(0.1)\n",
    "\n",
    "def animate_slider():\n",
    "    \"\"\"Continuously animate the slider unless the user is interacting.\"\"\"\n",
    "    global slider_value, user_interacting, resume_requested\n",
    "    while True:\n",
    "        if not user_interacting and resume_requested:\n",
    "            resume_requested = False  # Ensure animation resumes smoothly\n",
    "            time.sleep(0.1)\n",
    "\n",
    "        if not user_interacting:\n",
    "            slider_value += 0.1\n",
    "            if slider_value > 5:\n",
    "                slider_value = -5\n",
    "            slider.value = slider_value  # Update without overriding manual input\n",
    "        time.sleep(0.1)\n",
    "\n",
    "# Create slider\n",
    "slider = widgets.FloatSlider(value=slider_value, min=-5, max=5, step=0.1)\n",
    "slider.observe(on_slider_change, names=\"value\")\n",
    "\n",
    "# Display slider and figure\n",
    "widgets.VBox([slider])\n",
    "\n",
    "# Show figure in a separate window\n",
    "pio.show(figure)"
   ]
  },
  {
   "cell_type": "code",
   "execution_count": null,
   "metadata": {},
   "outputs": [],
   "source": [
    "import numpy as np\n",
    "import matplotlib.pyplot as plt\n",
    "from matplotlib.backends.backend_tkagg import FigureCanvasTkAgg\n",
    "import tkinter as tk\n",
    "from matplotlib.widgets import Slider\n",
    "from mpl_toolkits.mplot3d import Axes3D\n",
    "\n",
    "# Create a simple matplotlib figure\n",
    "x = np.linspace(-3, 3, 50)\n",
    "y = np.linspace(-3, 3, 50)\n",
    "X, Y = np.meshgrid(x, y)\n",
    "Z = np.sin(np.sqrt(X**2 + Y**2))\n",
    "\n",
    "fig = plt.figure()\n",
    "ax = fig.add_subplot(111, projection='3d')\n",
    "plt.subplots_adjust(left=0.1, bottom=0.25)\n",
    "surface = ax.plot_surface(X, Y, Z, cmap='viridis')\n",
    "colorbar = fig.colorbar(surface, ax=ax, shrink=0.5, aspect=5)\n",
    "\n",
    "# Create a slider axis and slider\n",
    "ax_slider = plt.axes([0.1, 0.05, 0.8, 0.05], facecolor='lightgoldenrodyellow')\n",
    "slider = Slider(ax_slider, 'C', -5.0, 5.0, valinit=0)\n",
    "\n",
    "# Initial scatter plot\n",
    "scatter = ax.scatter([], [], [], color='r')\n",
    "\n",
    "def update(val):\n",
    "    \"\"\"Update the plot with the given slider value.\"\"\"\n",
    "    c = slider.val\n",
    "    Z_new = np.sin(np.sqrt(X**2 + Y**2)) + c\n",
    "    surface.remove()\n",
    "    surface = ax.plot_surface(X, Y, Z_new, cmap='viridis')\n",
    "    \n",
    "    # Update scatter plot\n",
    "    scatter._offsets3d = (X.ravel(), Y.ravel(), (Z_new + c).ravel())\n",
    "    \n",
    "    fig.canvas.draw_idle()\n",
    "\n",
    "# Update the plot when the slider value changes\n",
    "slider.on_changed(update)\n",
    "\n",
    "# Create tkinter window\n",
    "root = tk.Tk()\n",
    "root.title(\"Interactive Matplotlib Graph\")\n",
    "root.geometry(\"800x600\")\n",
    "\n",
    "# Embed the matplotlib figure in the tkinter window\n",
    "canvas = FigureCanvasTkAgg(fig, master=root)\n",
    "canvas.get_tk_widget().pack(side=tk.TOP, fill=tk.BOTH, expand=1)\n",
    "\n",
    "root.mainloop()"
   ]
  },
  {
   "cell_type": "code",
   "execution_count": 11,
   "metadata": {},
   "outputs": [
    {
     "data": {
      "application/vnd.jupyter.widget-view+json": {
       "model_id": "36a99d4890fe4e0ea4b085300d2c1834",
       "version_major": 2,
       "version_minor": 0
      },
      "text/plain": [
       "FloatSlider(value=1.0, description='a value', max=3.0, min=0.1)"
      ]
     },
     "metadata": {},
     "output_type": "display_data"
    },
    {
     "data": {
      "application/vnd.jupyter.widget-view+json": {
       "model_id": "cb183c94f9ee466aa824abd62f89f89b",
       "version_major": 2,
       "version_minor": 0
      },
      "text/plain": [
       "FigureWidget({\n",
       "    'data': [{'cmax': 1,\n",
       "              'cmin': 0,\n",
       "              'colorscale': [[0.0, '#440154'], [0.1111111111111111, '#482878'],\n",
       "                             [0.2222222222222222, '#3e4989'], [0.3333333333333333,\n",
       "                             '#31688e'], [0.4444444444444444, '#26828e'],\n",
       "                             [0.5555555555555556, '#1f9e89'], [0.6666666666666666,\n",
       "                             '#35b779'], [0.7777777777777778, '#6ece58'],\n",
       "                             [0.8888888888888888, '#b5de2b'], [1.0, '#fde725']],\n",
       "              'name': 'B=-2.0+-2.0j',\n",
       "              'opacity': 0.5,\n",
       "              'showscale': False,\n",
       "              'surfacecolor': {'bdata': ('AAAAAAAAAAAAAAAAAAAAAAAAAAAAAA' ... 'AAAAAAAAAAAAAAAAAAAAAAAAAAAA=='),\n",
       "                               'dtype': 'f8',\n",
       "                               'shape': '10, 50'},\n",
       "              'type': 'surface',\n",
       "              'uid': 'de6055ea-4f8d-4869-bbfd-33dd8f8ad318',\n",
       "              'x': {'bdata': ('AAAAAAAACMDByyl4OQUHwIOXU/ByCg' ... 'ByCgZAwMspeDkFB0AAAAAAAAAIQA=='),\n",
       "                    'dtype': 'f8',\n",
       "                    'shape': '10, 50'},\n",
       "              'y': {'bdata': ('AAAAAAAAAMAAAAAAAAAAwAAAAAAAAA' ... 'AAAABAAAAAAAAAAEAAAAAAAAAAQA=='),\n",
       "                    'dtype': 'f8',\n",
       "                    'shape': '10, 50'},\n",
       "              'z': {'bdata': ('AAAAAAAA8D9kn7cIExLuP8OG6/+AM+' ... 'Leocg/aSUs2PEwzD+snkDYcP3PPw=='),\n",
       "                    'dtype': 'f8',\n",
       "                    'shape': '10, 50'}},\n",
       "             {'cmax': 1,\n",
       "              'cmin': 0,\n",
       "              'colorscale': [[0.0, '#00224e'], [0.1111111111111111, '#123570'],\n",
       "                             [0.2222222222222222, '#3b496c'], [0.3333333333333333,\n",
       "                             '#575d6d'], [0.4444444444444444, '#707173'],\n",
       "                             [0.5555555555555556, '#8a8678'], [0.6666666666666666,\n",
       "                             '#a59c74'], [0.7777777777777778, '#c3b369'],\n",
       "                             [0.8888888888888888, '#e1cc55'], [1.0, '#fee838']],\n",
       "              'name': 'B=-1.6+-1.6j',\n",
       "              'opacity': 0.5,\n",
       "              'showscale': False,\n",
       "              'surfacecolor': {'bdata': ('mpmZmZmZuT+amZmZmZm5P5qZmZmZmb' ... 'mZmbk/mpmZmZmZuT+amZmZmZm5Pw=='),\n",
       "                               'dtype': 'f8',\n",
       "                               'shape': '10, 50'},\n",
       "              'type': 'surface',\n",
       "              'uid': '14d59e9e-308e-4cb0-8b5d-8929d355c3bc',\n",
       "              'x': {'bdata': ('AAAAAAAACMDByyl4OQUHwIOXU/ByCg' ... 'ByCgZAwMspeDkFB0AAAAAAAAAIQA=='),\n",
       "                    'dtype': 'f8',\n",
       "                    'shape': '10, 50'},\n",
       "              'y': {'bdata': ('AAAAAAAAAMAAAAAAAAAAwAAAAAAAAA' ... 'AAAABAAAAAAAAAAEAAAAAAAAAAQA=='),\n",
       "                    'dtype': 'f8',\n",
       "                    'shape': '10, 50'},\n",
       "              'z': {'bdata': ('opJzIkNV7T/UVd0UNIPrPwNhw/V/wO' ... '3xNtE/06XK0zY20z8TKjknMlTVPw=='),\n",
       "                    'dtype': 'f8',\n",
       "                    'shape': '10, 50'}},\n",
       "             {'cmax': 1,\n",
       "              'cmin': 0,\n",
       "              'colorscale': [[0.0, '#0d0887'], [0.1111111111111111, '#46039f'],\n",
       "                             [0.2222222222222222, '#7201a8'], [0.3333333333333333,\n",
       "                             '#9c179e'], [0.4444444444444444, '#bd3786'],\n",
       "                             [0.5555555555555556, '#d8576b'], [0.6666666666666666,\n",
       "                             '#ed7953'], [0.7777777777777778, '#fb9f3a'],\n",
       "                             [0.8888888888888888, '#fdca26'], [1.0, '#f0f921']],\n",
       "              'name': 'B=-1.1+-1.1j',\n",
       "              'opacity': 0.5,\n",
       "              'showscale': False,\n",
       "              'surfacecolor': {'bdata': ('mpmZmZmZyT+amZmZmZnJP5qZmZmZmc' ... 'mZmck/mpmZmZmZyT+amZmZmZnJPw=='),\n",
       "                               'dtype': 'f8',\n",
       "                               'shape': '10, 50'},\n",
       "              'type': 'surface',\n",
       "              'uid': '967ea6a7-a657-4c9b-a0bd-df9a4acec2a4',\n",
       "              'x': {'bdata': ('AAAAAAAACMDByyl4OQUHwIOXU/ByCg' ... 'ByCgZAwMspeDkFB0AAAAAAAAAIQA=='),\n",
       "                    'dtype': 'f8',\n",
       "                    'shape': '10, 50'},\n",
       "              'y': {'bdata': ('AAAAAAAAAMAAAAAAAAAAwAAAAAAAAA' ... 'AAAABAAAAAAAAAAEAAAAAAAAAAQA=='),\n",
       "                    'dtype': 'f8',\n",
       "                    'shape': '10, 50'},\n",
       "              'z': {'bdata': ('QyXnRIaq6j9FDAMhVfToP0Q7m+t+Te' ... 'HzHNY/8Th/u/RT2D/QBFLiq6naPw=='),\n",
       "                    'dtype': 'f8',\n",
       "                    'shape': '10, 50'}},\n",
       "             {'cmax': 1,\n",
       "              'cmin': 0,\n",
       "              'colorscale': [[0.0, '#000004'], [0.1111111111111111, '#1b0c41'],\n",
       "                             [0.2222222222222222, '#4a0c6b'], [0.3333333333333333,\n",
       "                             '#781c6d'], [0.4444444444444444, '#a52c60'],\n",
       "                             [0.5555555555555556, '#cf4446'], [0.6666666666666666,\n",
       "                             '#ed6925'], [0.7777777777777778, '#fb9b06'],\n",
       "                             [0.8888888888888888, '#f7d13d'], [1.0, '#fcffa4']],\n",
       "              'name': 'B=-0.7+-0.7j',\n",
       "              'opacity': 0.5,\n",
       "              'showscale': False,\n",
       "              'surfacecolor': {'bdata': ('MzMzMzMz0z8zMzMzMzPTPzMzMzMzM9' ... 'MzM9M/MzMzMzMz0z8zMzMzMzPTPw=='),\n",
       "                               'dtype': 'f8',\n",
       "                               'shape': '10, 50'},\n",
       "              'type': 'surface',\n",
       "              'uid': '5b6d52f5-bca2-4048-95ef-60f933ce0f0b',\n",
       "              'x': {'bdata': ('AAAAAAAACMDByyl4OQUHwIOXU/ByCg' ... 'ByCgZAwMspeDkFB0AAAAAAAAAIQA=='),\n",
       "                    'dtype': 'f8',\n",
       "                    'shape': '10, 50'},\n",
       "              'y': {'bdata': ('AAAAAAAAAMAAAAAAAAAAwAAAAAAAAA' ... 'AAAABAAAAAAAAAAEAAAAAAAAAAQA=='),\n",
       "                    'dtype': 'f8',\n",
       "                    'shape': '10, 50'},\n",
       "              'z': {'bdata': ('5LdaZ8n/5z+2wigtdmXmP4UVc+F92u' ... 'X1Ats/D8wzo7Jx3T+P32qdJf/fPw=='),\n",
       "                    'dtype': 'f8',\n",
       "                    'shape': '10, 50'}},\n",
       "             {'cmax': 1,\n",
       "              'cmin': 0,\n",
       "              'colorscale': [[0.0, '#000004'], [0.1111111111111111, '#180f3d'],\n",
       "                             [0.2222222222222222, '#440f76'], [0.3333333333333333,\n",
       "                             '#721f81'], [0.4444444444444444, '#9e2f7f'],\n",
       "                             [0.5555555555555556, '#cd4071'], [0.6666666666666666,\n",
       "                             '#f1605d'], [0.7777777777777778, '#fd9668'],\n",
       "                             [0.8888888888888888, '#feca8d'], [1.0, '#fcfdbf']],\n",
       "              'name': 'B=-0.2+-0.2j',\n",
       "              'opacity': 0.5,\n",
       "              'showscale': False,\n",
       "              'surfacecolor': {'bdata': ('mpmZmZmZ2T+amZmZmZnZP5qZmZmZmd' ... 'mZmdk/mpmZmZmZ2T+amZmZmZnZPw=='),\n",
       "                               'dtype': 'f8',\n",
       "                               'shape': '10, 50'},\n",
       "              'type': 'surface',\n",
       "              'uid': 'fbb562e0-5298-481c-aaa8-826cd03c12fb',\n",
       "              'x': {'bdata': ('AAAAAAAACMDByyl4OQUHwIOXU/ByCg' ... 'ByCgZAwMspeDkFB0AAAAAAAAAIQA=='),\n",
       "                    'dtype': 'f8',\n",
       "                    'shape': '10, 50'},\n",
       "              'y': {'bdata': ('AAAAAAAAAMAAAAAAAAAAwAAAAAAAAA' ... 'AAAABAAAAAAAAAAEAAAAAAAAAAQA=='),\n",
       "                    'dtype': 'f8',\n",
       "                    'shape': '10, 50'},\n",
       "              'z': {'bdata': ('hkrOiQxV5T8neU45l9bjP8XvStd8Z+' ... 'r36N8/li90RbhH4T8l3UGsT6riPw=='),\n",
       "                    'dtype': 'f8',\n",
       "                    'shape': '10, 50'}},\n",
       "             {'cmax': 1,\n",
       "              'cmin': 0,\n",
       "              'colorscale': [[0.0, '#30123b'], [0.07142857142857142, '#4145ab'],\n",
       "                             [0.14285714285714285, '#4675ed'],\n",
       "                             [0.21428571428571427, '#39a2fc'], [0.2857142857142857,\n",
       "                             '#1bcfd4'], [0.35714285714285715, '#24eca6'],\n",
       "                             [0.42857142857142855, '#61fc6c'], [0.5, '#a4fc3b'],\n",
       "                             [0.5714285714285714, '#d1e834'], [0.6428571428571429,\n",
       "                             '#f3c63a'], [0.7142857142857143, '#fe9b2d'],\n",
       "                             [0.7857142857142857, '#f36315'], [0.8571428571428571,\n",
       "                             '#d93806'], [0.9285714285714286, '#b11901'], [1.0,\n",
       "                             '#7a0402']],\n",
       "              'name': 'B=0.2+0.2j',\n",
       "              'opacity': 0.5,\n",
       "              'showscale': False,\n",
       "              'surfacecolor': {'bdata': ('AAAAAAAA4D8AAAAAAADgPwAAAAAAAO' ... 'AAAOA/AAAAAAAA4D8AAAAAAADgPw=='),\n",
       "                               'dtype': 'f8',\n",
       "                               'shape': '10, 50'},\n",
       "              'type': 'surface',\n",
       "              'uid': 'b94269dd-546e-4f50-8a7e-d423e60fb239',\n",
       "              'x': {'bdata': ('AAAAAAAACMDByyl4OQUHwIOXU/ByCg' ... 'ByCgZAwMspeDkFB0AAAAAAAAAIQA=='),\n",
       "                    'dtype': 'f8',\n",
       "                    'shape': '10, 50'},\n",
       "              'y': {'bdata': ('AAAAAAAAAMAAAAAAAAAAwAAAAAAAAA' ... 'AAAABAAAAAAAAAAEAAAAAAAAAAQA=='),\n",
       "                    'dtype': 'f8',\n",
       "                    'shape': '10, 50'},\n",
       "              'z': {'bdata': ('Jd1BrE+q4j+XL3RFuEfhPwqURZr36N' ... 'd8Z+I/JnlOOZfW4z+GSs6JDFXlPw=='),\n",
       "                    'dtype': 'f8',\n",
       "                    'shape': '10, 50'}},\n",
       "             {'cmax': 1,\n",
       "              'cmin': 0,\n",
       "              'colorscale': [[0.0, 'rgb(0,0,131)'], [0.2, 'rgb(0,60,170)'], [0.4,\n",
       "                             'rgb(5,255,255)'], [0.6, 'rgb(255,255,0)'], [0.8,\n",
       "                             'rgb(250,0,0)'], [1.0, 'rgb(128,0,0)']],\n",
       "              'name': 'B=0.7+0.7j',\n",
       "              'opacity': 0.5,\n",
       "              'showscale': False,\n",
       "              'surfacecolor': {'bdata': ('MzMzMzMz4z8zMzMzMzPjPzMzMzMzM+' ... 'MzM+M/MzMzMzMz4z8zMzMzMzPjPw=='),\n",
       "                               'dtype': 'f8',\n",
       "                               'shape': '10, 50'},\n",
       "              'type': 'surface',\n",
       "              'uid': '67a16206-a95f-4a63-a9b6-4973bbf7f322',\n",
       "              'x': {'bdata': ('AAAAAAAACMDByyl4OQUHwIOXU/ByCg' ... 'ByCgZAwMspeDkFB0AAAAAAAAAIQA=='),\n",
       "                    'dtype': 'f8',\n",
       "                    'shape': '10, 50'},\n",
       "              'y': {'bdata': ('AAAAAAAAAMAAAAAAAAAAwAAAAAAAAA' ... 'AAAABAAAAAAAAAAEAAAAAAAAAAQA=='),\n",
       "                    'dtype': 'f8',\n",
       "                    'shape': '10, 50'},\n",
       "              'z': {'bdata': ('j99qnSX/3z8SzDOjsnHdP4tI9YX1At' ... 'F92uQ/tMIoLXZl5j/kt1pnyf/nPw=='),\n",
       "                    'dtype': 'f8',\n",
       "                    'shape': '10, 50'}},\n",
       "             {'cmax': 1,\n",
       "              'cmin': 0,\n",
       "              'colorscale': [[0.0, 'rgb(150,0,90)'], [0.125, 'rgb(0,0,200)'],\n",
       "                             [0.25, 'rgb(0,25,255)'], [0.375, 'rgb(0,152,255)'],\n",
       "                             [0.5, 'rgb(44,255,150)'], [0.625, 'rgb(151,255,0)'],\n",
       "                             [0.75, 'rgb(255,234,0)'], [0.875, 'rgb(255,111,0)'],\n",
       "                             [1.0, 'rgb(255,0,0)']],\n",
       "              'name': 'B=1.1+1.1j',\n",
       "              'opacity': 0.5,\n",
       "              'showscale': False,\n",
       "              'surfacecolor': {'bdata': ('ZmZmZmZm5j9mZmZmZmbmP2ZmZmZmZu' ... 'ZmZuY/ZmZmZmZm5j9mZmZmZmbmPw=='),\n",
       "                               'dtype': 'f8',\n",
       "                               'shape': '10, 50'},\n",
       "              'type': 'surface',\n",
       "              'uid': '8d53426c-3db1-4c8f-9f03-36481283ac2c',\n",
       "              'x': {'bdata': ('AAAAAAAACMDByyl4OQUHwIOXU/ByCg' ... 'ByCgZAwMspeDkFB0AAAAAAAAAIQA=='),\n",
       "                    'dtype': 'f8',\n",
       "                    'shape': '10, 50'},\n",
       "              'y': {'bdata': ('AAAAAAAAAMAAAAAAAAAAwAAAAAAAAA' ... 'AAAABAAAAAAAAAAEAAAAAAAAAAQA=='),\n",
       "                    'dtype': 'f8',\n",
       "                    'shape': '10, 50'},\n",
       "              'z': {'bdata': ('0gRS4qup2j/0OH+79FPYPw39pHHzHN' ... 't+Tec/QwwDIVX06D9CJedEhqrqPw=='),\n",
       "                    'dtype': 'f8',\n",
       "                    'shape': '10, 50'}},\n",
       "             {'cmax': 1,\n",
       "              'cmin': 0,\n",
       "              'colorscale': [[0.0, 'rgb(12,51,131)'], [0.25, 'rgb(10,136,186)'],\n",
       "                             [0.5, 'rgb(242,211,56)'], [0.75, 'rgb(242,143,56)'],\n",
       "                             [1.0, 'rgb(217,30,30)']],\n",
       "              'name': 'B=1.6+1.6j',\n",
       "              'opacity': 0.5,\n",
       "              'showscale': False,\n",
       "              'surfacecolor': {'bdata': ('mpmZmZmZ6T+amZmZmZnpP5qZmZmZme' ... 'mZmek/mpmZmZmZ6T+amZmZmZnpPw=='),\n",
       "                               'dtype': 'f8',\n",
       "                               'shape': '10, 50'},\n",
       "              'type': 'surface',\n",
       "              'uid': '9a320a72-a0de-443b-9aa5-d784f0602d1f',\n",
       "              'x': {'bdata': ('AAAAAAAACMDByyl4OQUHwIOXU/ByCg' ... 'ByCgZAwMspeDkFB0AAAAAAAAAIQA=='),\n",
       "                    'dtype': 'f8',\n",
       "                    'shape': '10, 50'},\n",
       "              'y': {'bdata': ('AAAAAAAAAMAAAAAAAAAAwAAAAAAAAA' ... 'AAAABAAAAAAAAAAEAAAAAAAAAAQA=='),\n",
       "                    'dtype': 'f8',\n",
       "                    'shape': '10, 50'},\n",
       "              'z': {'bdata': ('FCo5JzJU1T/VpcrTNjbTP42xVF3xNt' ... 'V/wOk/0lXdFDSD6z+hknMiQ1XtPw=='),\n",
       "                    'dtype': 'f8',\n",
       "                    'shape': '10, 50'}},\n",
       "             {'cmax': 1,\n",
       "              'cmin': 0,\n",
       "              'colorscale': [[0.0, 'rgb(0,0,0)'], [0.25, 'rgb(230,0,0)'], [0.5,\n",
       "                             'rgb(230,210,0)'], [0.75, 'rgb(255,255,255)'], [1.0,\n",
       "                             'rgb(160,200,255)']],\n",
       "              'name': 'B=2.0+2.0j',\n",
       "              'opacity': 0.5,\n",
       "              'showscale': False,\n",
       "              'surfacecolor': {'bdata': ('zczMzMzM7D/NzMzMzMzsP83MzMzMzO' ... 'zMzOw/zczMzMzM7D/NzMzMzMzsPw=='),\n",
       "                               'dtype': 'f8',\n",
       "                               'shape': '10, 50'},\n",
       "              'type': 'surface',\n",
       "              'uid': '0ef519e8-d8a4-4fcc-9400-b71379b4959d',\n",
       "              'x': {'bdata': ('AAAAAAAACMDByyl4OQUHwIOXU/ByCg' ... 'ByCgZAwMspeDkFB0AAAAAAAAAIQA=='),\n",
       "                    'dtype': 'f8',\n",
       "                    'shape': '10, 50'},\n",
       "              'y': {'bdata': ('AAAAAAAAAMAAAAAAAAAAwAAAAAAAAA' ... 'AAAABAAAAAAAAAAEAAAAAAAAAAQA=='),\n",
       "                    'dtype': 'f8',\n",
       "                    'shape': '10, 50'},\n",
       "              'z': {'bdata': ('rJ5A2HD9zz9rJSzY8TDMPxvMCJLeoc' ... '+AM+w/Yp+3CBMS7j8AAAAAAADwPw=='),\n",
       "                    'dtype': 'f8',\n",
       "                    'shape': '10, 50'}},\n",
       "             {'colorscale': [[0, 'rgba(0,0,0,0.1)'], [1, 'rgba(0,0,0,0.1)']],\n",
       "              'name': 'X-Y plane',\n",
       "              'opacity': 0.3,\n",
       "              'showscale': False,\n",
       "              'type': 'surface',\n",
       "              'uid': '6506ea07-a341-4db5-882a-447d49d2dd70',\n",
       "              'x': {'bdata': ('AAAAAAAACMDByyl4OQUHwIOXU/ByCg' ... 'ByCgZAwMspeDkFB0AAAAAAAAAIQA=='),\n",
       "                    'dtype': 'f8',\n",
       "                    'shape': '10, 50'},\n",
       "              'y': {'bdata': ('AAAAAAAAAMAAAAAAAAAAwAAAAAAAAA' ... 'AAAABAAAAAAAAAAEAAAAAAAAAAQA=='),\n",
       "                    'dtype': 'f8',\n",
       "                    'shape': '10, 50'},\n",
       "              'z': {'bdata': ('AAAAAAAAAAAAAAAAAAAAAAAAAAAAAA' ... 'AAAAAAAAAAAAAAAAAAAAAAAAAAAA=='),\n",
       "                    'dtype': 'f8',\n",
       "                    'shape': '10, 50'}},\n",
       "             {'colorscale': [[0, 'rgba(0,0,0,0.1)'], [1, 'rgba(0,0,0,0.1)']],\n",
       "              'name': 'X-Z plane',\n",
       "              'opacity': 0.3,\n",
       "              'showscale': False,\n",
       "              'type': 'surface',\n",
       "              'uid': 'acd2a01a-6615-4274-a2dc-6f21c4292a38',\n",
       "              'x': {'bdata': ('AAAAAAAACMDByyl4OQUHwIOXU/ByCg' ... 'ByCgZAwMspeDkFB0AAAAAAAAAIQA=='),\n",
       "                    'dtype': 'f8',\n",
       "                    'shape': '10, 50'},\n",
       "              'y': {'bdata': ('AAAAAAAAAAAAAAAAAAAAAAAAAAAAAA' ... 'AAAAAAAAAAAAAAAAAAAAAAAAAAAA=='),\n",
       "                    'dtype': 'f8',\n",
       "                    'shape': '10, 50'},\n",
       "              'z': {'bdata': ('rJ5A2HD9zz9rJSzY8TDMPxvMCJLeoc' ... '+AM+w/Yp+3CBMS7j8AAAAAAADwPw=='),\n",
       "                    'dtype': 'f8',\n",
       "                    'shape': '10, 50'}},\n",
       "             {'colorscale': [[0, 'rgba(0,0,0,0.1)'], [1, 'rgba(0,0,0,0.1)']],\n",
       "              'name': 'Y-Z plane',\n",
       "              'opacity': 0.3,\n",
       "              'showscale': False,\n",
       "              'type': 'surface',\n",
       "              'uid': '06b61363-cbc6-4bb7-ae43-989149c335fe',\n",
       "              'x': {'bdata': ('AAAAAAAAAAAAAAAAAAAAAAAAAAAAAA' ... 'AAAAAAAAAAAAAAAAAAAAAAAAAAAA=='),\n",
       "                    'dtype': 'f8',\n",
       "                    'shape': '10, 50'},\n",
       "              'y': {'bdata': ('AAAAAAAAAMAAAAAAAAAAwAAAAAAAAA' ... 'AAAABAAAAAAAAAAEAAAAAAAAAAQA=='),\n",
       "                    'dtype': 'f8',\n",
       "                    'shape': '10, 50'},\n",
       "              'z': {'bdata': ('rJ5A2HD9zz9rJSzY8TDMPxvMCJLeoc' ... '+AM+w/Yp+3CBMS7j8AAAAAAADwPw=='),\n",
       "                    'dtype': 'f8',\n",
       "                    'shape': '10, 50'}}],\n",
       "    'layout': {'scene': {'xaxis': {'title': {'text': 'X axis'}},\n",
       "                         'yaxis': {'title': {'text': 'Real part of B'}},\n",
       "                         'zaxis': {'title': {'text': 'Imaginary part of B'}}},\n",
       "               'template': '...'}\n",
       "})"
      ]
     },
     "metadata": {},
     "output_type": "display_data"
    }
   ],
   "source": [
    "import numpy as np\n",
    "import ipywidgets as widgets\n",
    "\n",
    "import plotly.graph_objects as go\n",
    "import IPython.display\n",
    "\n",
    "# Create grid\n",
    "x = np.linspace(-3, 3, 50)\n",
    "real_values = np.linspace(-2, 2, 10)\n",
    "imag_values = np.linspace(-2, 2, 10)\n",
    "X, R, I = np.meshgrid(x, real_values, imag_values)\n",
    "\n",
    "# Initial function values\n",
    "a = 1.0\n",
    "B = R + 1j * I\n",
    "Z = a * X**2 + B * X\n",
    "\n",
    "# Normalize Z values to a fixed range [0, 1]\n",
    "Z_min, Z_max = Z.real.min(), Z.real.max()\n",
    "Z_normalized = (Z.real - Z_min) / (Z_max - Z_min)\n",
    "\n",
    "# Define color schemes\n",
    "color_schemes = [\"Viridis\", \"Cividis\", \"Plasma\", \"Inferno\", \"Magma\", \"Turbo\", \"Jet\", \"Rainbow\", \"Portland\", \"Blackbody\"]\n",
    "\n",
    "# Create figure\n",
    "figure = go.FigureWidget(\n",
    "    layout=go.Layout(scene={'xaxis_title': \"X axis\", 'yaxis_title': \"Real part of B\", 'zaxis_title': \"Imaginary part of B\"})\n",
    ")\n",
    "\n",
    "# Add surfaces for different complex B values\n",
    "for i, (r, im) in enumerate(zip(real_values, imag_values)):\n",
    "    B = r + 1j * im\n",
    "    Z = a * X**2 + B * X\n",
    "    Z_normalized = (Z.real - Z_min) / (Z_max - Z_min)\n",
    "    surface_color = np.full_like(Z.real, i / len(real_values))\n",
    "    figure.add_trace(go.Surface(\n",
    "        z=Z_normalized, x=X[:, :, 0], y=R[:, :, 0],\n",
    "        surfacecolor=surface_color[:, :, 0],\n",
    "        colorscale=color_schemes[i % len(color_schemes)],\n",
    "        cmin=0, cmax=1,\n",
    "        opacity=0.5, showscale=False,\n",
    "        name=f\"B={r:.1f}+{im:.1f}j\"\n",
    "    ))\n",
    "\n",
    "# Add semi-transparent planes for X-Y, X-Z, and Y-Z\n",
    "# X-Y plane\n",
    "figure.add_trace(go.Surface(\n",
    "    z=np.zeros_like(X[:, :, 0]), x=X[:, :, 0], y=R[:, :, 0],\n",
    "    colorscale=[[0, 'rgba(0,0,0,0.1)'], [1, 'rgba(0,0,0,0.1)']],\n",
    "    opacity=0.3, showscale=False,\n",
    "    name=\"X-Y plane\"\n",
    "))\n",
    "\n",
    "# X-Z plane\n",
    "figure.add_trace(go.Surface(\n",
    "    z=Z_normalized[:, :, 0], x=X[:, :, 0], y=np.zeros_like(R[:, :, 0]),\n",
    "    colorscale=[[0, 'rgba(0,0,0,0.1)'], [1, 'rgba(0,0,0,0.1)']],\n",
    "    opacity=0.3, showscale=False,\n",
    "    name=\"X-Z plane\"\n",
    "))\n",
    "\n",
    "# Y-Z plane\n",
    "figure.add_trace(go.Surface(\n",
    "    z=Z_normalized[:, :, 0], x=np.zeros_like(X[:, :, 0]), y=R[:, :, 0],\n",
    "    colorscale=[[0, 'rgba(0,0,0,0.1)'], [1, 'rgba(0,0,0,0.1)']],\n",
    "    opacity=0.3, showscale=False,\n",
    "    name=\"Y-Z plane\"\n",
    "))\n",
    "\n",
    "# Function to update the plot\n",
    "def update_plot(a):\n",
    "    with figure.batch_update():\n",
    "        for i, (r, im) in enumerate(zip(real_values, imag_values)):\n",
    "            B = r + 1j * im\n",
    "            Z = a * X**2 + B * X\n",
    "            Z_normalized = (Z.real - Z_min) / (Z_max - Z_min)\n",
    "            surface_color = np.full_like(Z.real, i / len(real_values))\n",
    "            figure.data[i].z = Z_normalized[:, :, 0]\n",
    "            figure.data[i].surfacecolor = surface_color[:, :, 0]\n",
    "\n",
    "# Create slider for 'a' value\n",
    "a_slider = widgets.FloatSlider(value=a, min=0.1, max=3.0, step=0.1, description='a value')\n",
    "widgets.interactive(update_plot, a=a_slider)\n",
    "\n",
    "# Display slider and figure\n",
    "IPython.display.display(a_slider, figure)"
   ]
  }
 ],
 "metadata": {
  "kernelspec": {
   "display_name": "Python 3",
   "language": "python",
   "name": "python3"
  },
  "language_info": {
   "codemirror_mode": {
    "name": "ipython",
    "version": 3
   },
   "file_extension": ".py",
   "mimetype": "text/x-python",
   "name": "python",
   "nbconvert_exporter": "python",
   "pygments_lexer": "ipython3",
   "version": "3.10.0"
  }
 },
 "nbformat": 4,
 "nbformat_minor": 2
}
