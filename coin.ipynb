{
 "cells": [
  {
   "cell_type": "markdown",
   "id": "46584353-f720-4129-af6a-1ff9222c2ceb",
   "metadata": {},
   "source": [
    "# Coins model\n",
    "Game parameters to consider\n",
    "1. bid size\n",
    "2. win size\n",
    "3. win probability\n",
    "4. Available money\n",
    "5. number of games (try limits)\n",
    "6. Kelly criterion: https://www.youtube.com/watch?v=-EFyY60UHZ4\n",
    "o - optimal bid size\n",
    "m - multiplier in case of win\n",
    "p - win prob\n",
    "o = m(p-1)/(m-1)\n",
    "\n",
    "Visualize a graph % of capital as bid, average gain per bid, one of coin property\n",
    "x = 1.0\n",
    "b = 0.2 - bid size\n",
    "for _ in range(100):\n",
    "    bx*0.6 - bx*0.4 = 0.2bx\n",
    "\n",
    "What if I roll a dice. In case of win with p=1/6 it multiplies my bid by 20. What's the average gain? Wha't the average gain per bid?\n",
    "x - bid size.\n",
    "20x/6 - 5x/6 = 15x/6\n",
    "Draw a graph depending on the number of games and different bid strategis (%).\n",
    "Will I win on average is I bet all my money?\n",
    "# A coin with 60% win prob doubling the bid\n",
    "\n",
    "# A bid is constant and declared upfront\n",
    "2 coins: The first coin takes b1$. In case of win it\n",
    "## A bid takes all money in case of loss, but I'm free to choose the bidding size\n",
    "Researchers found that young investers should have used laverage. That contadicts with Kelly criterion because it's not possible to bid not earned moeny. But the criterion can at least give a lower bound"
   ]
  },
  {
   "cell_type": "markdown",
   "id": "f6802f48-517c-426a-9160-10423cf2a62e",
   "metadata": {},
   "source": [
    "stocks"
   ]
  }
 ],
 "metadata": {
  "kernelspec": {
   "display_name": "Python 3 (ipykernel)",
   "language": "python",
   "name": "python3"
  },
  "language_info": {
   "codemirror_mode": {
    "name": "ipython",
    "version": 3
   },
   "file_extension": ".py",
   "mimetype": "text/x-python",
   "name": "python",
   "nbconvert_exporter": "python",
   "pygments_lexer": "ipython3",
   "version": "3.12.9"
  }
 },
 "nbformat": 4,
 "nbformat_minor": 5
}
